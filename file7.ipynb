{
 "cells": [
  {
   "cell_type": "markdown",
   "id": "a9fb3eca",
   "metadata": {},
   "source": [
    "# Sets\n"
   ]
  },
  {
   "cell_type": "code",
   "execution_count": 1,
   "id": "1e0472ba",
   "metadata": {},
   "outputs": [
    {
     "data": {
      "text/plain": [
       "{1, 2, 3, 4}"
      ]
     },
     "execution_count": 1,
     "metadata": {},
     "output_type": "execute_result"
    }
   ],
   "source": [
    "s = {1,2,3,4}\n",
    "s"
   ]
  },
  {
   "cell_type": "code",
   "execution_count": 3,
   "id": "609b8a80",
   "metadata": {},
   "outputs": [
    {
     "name": "stdout",
     "output_type": "stream",
     "text": [
      "<class 'set'>\n"
     ]
    }
   ],
   "source": [
    "print(type(s))"
   ]
  },
  {
   "cell_type": "code",
   "execution_count": 4,
   "id": "d029fa75",
   "metadata": {},
   "outputs": [
    {
     "data": {
      "text/plain": [
       "1655190300352"
      ]
     },
     "execution_count": 4,
     "metadata": {},
     "output_type": "execute_result"
    }
   ],
   "source": [
    "id(s)"
   ]
  },
  {
   "cell_type": "code",
   "execution_count": 5,
   "id": "b223baac",
   "metadata": {},
   "outputs": [
    {
     "data": {
      "text/plain": [
       "{1, 2, 3, 4}"
      ]
     },
     "execution_count": 5,
     "metadata": {},
     "output_type": "execute_result"
    }
   ],
   "source": [
    "sets = {1, 2,3, 4, True}\n",
    "sets"
   ]
  },
  {
   "cell_type": "code",
   "execution_count": 6,
   "id": "0f46136b",
   "metadata": {},
   "outputs": [
    {
     "data": {
      "text/plain": [
       "{True, 2, 3, 4}"
      ]
     },
     "execution_count": 6,
     "metadata": {},
     "output_type": "execute_result"
    }
   ],
   "source": [
    "Sets = {True, 2,1,3, 4}\n",
    "Sets"
   ]
  },
  {
   "cell_type": "code",
   "execution_count": 8,
   "id": "a4ee83a2",
   "metadata": {},
   "outputs": [
    {
     "name": "stdout",
     "output_type": "stream",
     "text": [
      "True\n",
      "2\n",
      "3\n",
      "4\n"
     ]
    }
   ],
   "source": [
    "for i in Sets:\n",
    "    print(i)"
   ]
  },
  {
   "cell_type": "code",
   "execution_count": 25,
   "id": "3e76ef8f",
   "metadata": {},
   "outputs": [
    {
     "name": "stdout",
     "output_type": "stream",
     "text": [
      "True\n"
     ]
    }
   ],
   "source": [
    "s1 = {'Ram', 'shyam', 'meera', 'sita'}\n",
    "print('meera' in s1)"
   ]
  },
  {
   "cell_type": "code",
   "execution_count": 23,
   "id": "e51206d5",
   "metadata": {},
   "outputs": [
    {
     "data": {
      "text/plain": [
       "{1, 12.5, 2, 3, 4, 'apple', 'sabi'}"
      ]
     },
     "execution_count": 23,
     "metadata": {},
     "output_type": "execute_result"
    }
   ],
   "source": [
    "s2 = {1,2,3,4,'sabi','apple',12.5}\n",
    "s2"
   ]
  },
  {
   "cell_type": "code",
   "execution_count": 24,
   "id": "bab6c6c0",
   "metadata": {},
   "outputs": [
    {
     "data": {
      "text/plain": [
       "{1, 12.5, 2, 3, 4, 'Ram', 'apple', 'meera', 'sabi', 'shyam', 'sita'}"
      ]
     },
     "execution_count": 24,
     "metadata": {},
     "output_type": "execute_result"
    }
   ],
   "source": [
    "s1.update(s2)\n",
    "s1"
   ]
  },
  {
   "cell_type": "code",
   "execution_count": 26,
   "id": "2d478dc5",
   "metadata": {},
   "outputs": [
    {
     "data": {
      "text/plain": [
       "{1, 12.5, 2, 3, 4, 'apple', 'sabi'}"
      ]
     },
     "execution_count": 26,
     "metadata": {},
     "output_type": "execute_result"
    }
   ],
   "source": [
    "s2"
   ]
  },
  {
   "cell_type": "code",
   "execution_count": 28,
   "id": "1fffaf51",
   "metadata": {},
   "outputs": [
    {
     "data": {
      "text/plain": [
       "{'Ram', 'meera', 'shyam', 'sita'}"
      ]
     },
     "execution_count": 28,
     "metadata": {},
     "output_type": "execute_result"
    }
   ],
   "source": [
    "s3 = ['Ram', 'shyam', 'meera', 'sita']\n",
    "s1.update(s3)\n",
    "s1"
   ]
  },
  {
   "cell_type": "code",
   "execution_count": 37,
   "id": "5a73d08e",
   "metadata": {},
   "outputs": [
    {
     "data": {
      "text/plain": [
       "{'Ram', 'meera', 'sabi', 'shyam', 'sita'}"
      ]
     },
     "execution_count": 37,
     "metadata": {},
     "output_type": "execute_result"
    }
   ],
   "source": [
    "s1.add('sabi')\n",
    "s1"
   ]
  },
  {
   "cell_type": "code",
   "execution_count": 38,
   "id": "c6d0f977",
   "metadata": {},
   "outputs": [
    {
     "data": {
      "text/plain": [
       "{'Ram', 'meera', 'shyam', 'sita'}"
      ]
     },
     "execution_count": 38,
     "metadata": {},
     "output_type": "execute_result"
    }
   ],
   "source": [
    "s1.remove('sabi')\n",
    "s1"
   ]
  },
  {
   "cell_type": "code",
   "execution_count": 48,
   "id": "d29d0bf3",
   "metadata": {},
   "outputs": [
    {
     "data": {
      "text/plain": [
       "{'Ram', 'meera', 'shyam'}"
      ]
     },
     "execution_count": 48,
     "metadata": {},
     "output_type": "execute_result"
    }
   ],
   "source": [
    "s1.pop()\n",
    "s1"
   ]
  },
  {
   "cell_type": "code",
   "execution_count": 50,
   "id": "d2b89542",
   "metadata": {},
   "outputs": [
    {
     "data": {
      "text/plain": [
       "set()"
      ]
     },
     "execution_count": 50,
     "metadata": {},
     "output_type": "execute_result"
    }
   ],
   "source": [
    "s1.clear()\n",
    "s1"
   ]
  },
  {
   "cell_type": "code",
   "execution_count": 51,
   "id": "f73a816f",
   "metadata": {},
   "outputs": [],
   "source": [
    "del s1"
   ]
  },
  {
   "cell_type": "code",
   "execution_count": 57,
   "id": "dae16723",
   "metadata": {},
   "outputs": [
    {
     "data": {
      "text/plain": [
       "{1, 2, 3, 'a', 'b', 'c'}"
      ]
     },
     "execution_count": 57,
     "metadata": {},
     "output_type": "execute_result"
    }
   ],
   "source": [
    "s = {'a','b', 'c'}\n",
    "s1 = {1,2,3}\n",
    "s.union(s1)"
   ]
  },
  {
   "cell_type": "code",
   "execution_count": 65,
   "id": "69668ce3",
   "metadata": {},
   "outputs": [
    {
     "data": {
      "text/plain": [
       "{'a'}"
      ]
     },
     "execution_count": 65,
     "metadata": {},
     "output_type": "execute_result"
    }
   ],
   "source": [
    "s1 = {'x', 'y', 'a'}\n",
    "s2 = s.intersection(s1)\n",
    "s2"
   ]
  },
  {
   "cell_type": "code",
   "execution_count": 84,
   "id": "d8125692",
   "metadata": {},
   "outputs": [
    {
     "data": {
      "text/plain": [
       "{'a'}"
      ]
     },
     "execution_count": 84,
     "metadata": {},
     "output_type": "execute_result"
    }
   ],
   "source": [
    "s1 = {'a','b', 'c'}\n",
    "s2 = {'x', 'y', 'a'}\n",
    "s1.intersection_update(s2)\n",
    "s1"
   ]
  },
  {
   "cell_type": "code",
   "execution_count": 86,
   "id": "3b907fdb",
   "metadata": {},
   "outputs": [
    {
     "data": {
      "text/plain": [
       "{'x', 'y'}"
      ]
     },
     "execution_count": 86,
     "metadata": {},
     "output_type": "execute_result"
    }
   ],
   "source": [
    "s3 = s1.symmetric_difference(s2)\n",
    "s3"
   ]
  },
  {
   "cell_type": "code",
   "execution_count": 88,
   "id": "b50ff9ec",
   "metadata": {},
   "outputs": [
    {
     "data": {
      "text/plain": [
       "{'a'}"
      ]
     },
     "execution_count": 88,
     "metadata": {},
     "output_type": "execute_result"
    }
   ],
   "source": [
    "s1.symmetric_difference_update(s2)\n",
    "s1"
   ]
  },
  {
   "cell_type": "code",
   "execution_count": 113,
   "id": "6b8351c2",
   "metadata": {},
   "outputs": [
    {
     "name": "stdout",
     "output_type": "stream",
     "text": [
      "True\n"
     ]
    }
   ],
   "source": [
    "a = {5, 4}\n",
    "b = {1,3,4,5}\n",
    "print(a<b)"
   ]
  },
  {
   "cell_type": "code",
   "execution_count": 114,
   "id": "6fb37948",
   "metadata": {},
   "outputs": [
    {
     "data": {
      "text/plain": [
       "{4, 5}"
      ]
     },
     "execution_count": 114,
     "metadata": {},
     "output_type": "execute_result"
    }
   ],
   "source": [
    "a = {4,5,6}\n",
    "b ={2,8,6}\n",
    "a-b"
   ]
  },
  {
   "cell_type": "markdown",
   "id": "ae848428",
   "metadata": {},
   "source": [
    "# Dictionary\n"
   ]
  },
  {
   "cell_type": "code",
   "execution_count": 2,
   "id": "a399cc99",
   "metadata": {},
   "outputs": [
    {
     "data": {
      "text/plain": [
       "{'name': 'sabina', 'age': 30, 'year': 1992}"
      ]
     },
     "execution_count": 2,
     "metadata": {},
     "output_type": "execute_result"
    }
   ],
   "source": [
    "my_dict = {\"name\":\"sabina\", \"age\":30, \"year\":1992}\n",
    "my_dict"
   ]
  },
  {
   "cell_type": "code",
   "execution_count": 4,
   "id": "a2c7a299",
   "metadata": {},
   "outputs": [
    {
     "data": {
      "text/plain": [
       "{'name': 'sabina', 'age': 30, 'year': 1993}"
      ]
     },
     "execution_count": 4,
     "metadata": {},
     "output_type": "execute_result"
    }
   ],
   "source": [
    "my_dict = {\"name\":\"sabina\", \"age\":30, \"year\":1992, \"year\":1993}\n",
    "my_dict"
   ]
  },
  {
   "cell_type": "code",
   "execution_count": 5,
   "id": "c30e25f2",
   "metadata": {},
   "outputs": [
    {
     "data": {
      "text/plain": [
       "{'name': 'sabina', 'age': 30, 'year': 1992, 'year1': 1992}"
      ]
     },
     "execution_count": 5,
     "metadata": {},
     "output_type": "execute_result"
    }
   ],
   "source": [
    "my_dict = {\"name\":\"sabina\", \"age\":30, \"year\":1992, \"year1\":1992}\n",
    "my_dict"
   ]
  },
  {
   "cell_type": "code",
   "execution_count": 7,
   "id": "78b43eb4",
   "metadata": {},
   "outputs": [
    {
     "data": {
      "text/plain": [
       "'sabina'"
      ]
     },
     "execution_count": 7,
     "metadata": {},
     "output_type": "execute_result"
    }
   ],
   "source": [
    "my_dict['name']"
   ]
  },
  {
   "cell_type": "code",
   "execution_count": 8,
   "id": "f0f525b4",
   "metadata": {},
   "outputs": [
    {
     "data": {
      "text/plain": [
       "'sabina'"
      ]
     },
     "execution_count": 8,
     "metadata": {},
     "output_type": "execute_result"
    }
   ],
   "source": [
    "my_dict.get('name')"
   ]
  },
  {
   "cell_type": "code",
   "execution_count": 9,
   "id": "68f2e9dc",
   "metadata": {},
   "outputs": [
    {
     "data": {
      "text/plain": [
       "30"
      ]
     },
     "execution_count": 9,
     "metadata": {},
     "output_type": "execute_result"
    }
   ],
   "source": [
    "my_dict.get('age')"
   ]
  },
  {
   "cell_type": "code",
   "execution_count": 11,
   "id": "1a65c2b4",
   "metadata": {},
   "outputs": [
    {
     "data": {
      "text/plain": [
       "dict_keys(['name', 'age', 'year', 'year1'])"
      ]
     },
     "execution_count": 11,
     "metadata": {},
     "output_type": "execute_result"
    }
   ],
   "source": [
    "my_dict.keys()"
   ]
  },
  {
   "cell_type": "code",
   "execution_count": 12,
   "id": "abe363c4",
   "metadata": {},
   "outputs": [
    {
     "data": {
      "text/plain": [
       "dict_values(['sabina', 30, 1992, 1992])"
      ]
     },
     "execution_count": 12,
     "metadata": {},
     "output_type": "execute_result"
    }
   ],
   "source": [
    "my_dict.values()"
   ]
  },
  {
   "cell_type": "code",
   "execution_count": 13,
   "id": "e3b0ff7c",
   "metadata": {},
   "outputs": [
    {
     "data": {
      "text/plain": [
       "dict_items([('name', 'sabina'), ('age', 30), ('year', 1992), ('year1', 1992)])"
      ]
     },
     "execution_count": 13,
     "metadata": {},
     "output_type": "execute_result"
    }
   ],
   "source": [
    "my_dict.items()"
   ]
  },
  {
   "cell_type": "code",
   "execution_count": 15,
   "id": "3021908d",
   "metadata": {},
   "outputs": [
    {
     "data": {
      "text/plain": [
       "{'name': 'sabina', 'age': 30, 'year': 1992, 'year1': 1992, 'color': 'white'}"
      ]
     },
     "execution_count": 15,
     "metadata": {},
     "output_type": "execute_result"
    }
   ],
   "source": [
    "# add item\n",
    "my_dict['color']='white'\n",
    "my_dict"
   ]
  },
  {
   "cell_type": "code",
   "execution_count": 16,
   "id": "5adbde02",
   "metadata": {},
   "outputs": [
    {
     "data": {
      "text/plain": [
       "{'name': 'sabina', 'age': 30, 'year': 1992, 'year1': 1992, 'color': 'red'}"
      ]
     },
     "execution_count": 16,
     "metadata": {},
     "output_type": "execute_result"
    }
   ],
   "source": [
    "# update\n",
    "my_dict['color']='red'\n",
    "my_dict"
   ]
  },
  {
   "cell_type": "code",
   "execution_count": 18,
   "id": "839f452f",
   "metadata": {},
   "outputs": [
    {
     "data": {
      "text/plain": [
       "{'name': 'sabina', 'age': 30, 'year': 1992, 'year1': 1993, 'color': 'red'}"
      ]
     },
     "execution_count": 18,
     "metadata": {},
     "output_type": "execute_result"
    }
   ],
   "source": [
    "my_dict['year1']=1993\n",
    "my_dict"
   ]
  },
  {
   "cell_type": "code",
   "execution_count": 19,
   "id": "21ca31b7",
   "metadata": {},
   "outputs": [
    {
     "data": {
      "text/plain": [
       "{'name': 'sabina', 'age': 30, 'year': 1992, 'year1': 1993, 'color': 'green'}"
      ]
     },
     "execution_count": 19,
     "metadata": {},
     "output_type": "execute_result"
    }
   ],
   "source": [
    "# or update using update()\n",
    "my_dict.update({'color':'green'})\n",
    "my_dict"
   ]
  },
  {
   "cell_type": "code",
   "execution_count": 23,
   "id": "596fa542",
   "metadata": {},
   "outputs": [
    {
     "data": {
      "text/plain": [
       "{'year': 1992, 'year1': 1993, 'color': 'green'}"
      ]
     },
     "execution_count": 23,
     "metadata": {},
     "output_type": "execute_result"
    }
   ],
   "source": [
    "my_dict.pop('age')\n",
    "my_dict"
   ]
  },
  {
   "cell_type": "code",
   "execution_count": 24,
   "id": "dc5da4c2",
   "metadata": {},
   "outputs": [
    {
     "data": {
      "text/plain": [
       "{'year': 1992, 'year1': 1993, 'color': 'green'}"
      ]
     },
     "execution_count": 24,
     "metadata": {},
     "output_type": "execute_result"
    }
   ],
   "source": [
    "newdict = my_dict.copy()\n",
    "newdict"
   ]
  },
  {
   "cell_type": "code",
   "execution_count": 28,
   "id": "ac377027",
   "metadata": {},
   "outputs": [
    {
     "name": "stdout",
     "output_type": "stream",
     "text": [
      "('year', 1992)\n",
      "('year1', 1993)\n",
      "('color', 'green')\n"
     ]
    }
   ],
   "source": [
    "for i in my_dict.items():\n",
    "    print(i)"
   ]
  },
  {
   "cell_type": "code",
   "execution_count": 33,
   "id": "c6034f6e",
   "metadata": {},
   "outputs": [
    {
     "name": "stdout",
     "output_type": "stream",
     "text": [
      "year\n",
      "year1\n",
      "color\n"
     ]
    }
   ],
   "source": [
    "for i in my_dict.keys():\n",
    "    print(i)"
   ]
  },
  {
   "cell_type": "code",
   "execution_count": 30,
   "id": "6c96d7a9",
   "metadata": {},
   "outputs": [
    {
     "name": "stdout",
     "output_type": "stream",
     "text": [
      "1992\n",
      "1993\n",
      "green\n"
     ]
    }
   ],
   "source": [
    "for i in my_dict.values():\n",
    "    print(i)"
   ]
  },
  {
   "cell_type": "code",
   "execution_count": 34,
   "id": "589db1d5",
   "metadata": {},
   "outputs": [
    {
     "data": {
      "text/plain": [
       "{'child1': {'name': 'aaa', 'age': 10},\n",
       " 'child2': {'name': 'bbb', 'age': 11},\n",
       " 'child3': {'name': 'ccc', 'age': 12}}"
      ]
     },
     "execution_count": 34,
     "metadata": {},
     "output_type": "execute_result"
    }
   ],
   "source": [
    "# nested dictionary\n",
    "my_family = {'child1':{\"name\":'aaa','age':10}, 'child2':{\"name\":'bbb','age':11}, 'child3':{'name':'ccc','age':12}}\n",
    "my_family"
   ]
  },
  {
   "cell_type": "code",
   "execution_count": 36,
   "id": "e4c808f9",
   "metadata": {},
   "outputs": [
    {
     "name": "stdout",
     "output_type": "stream",
     "text": [
      "('child1', {'name': 'aaa', 'age': 10})\n",
      "('child2', {'name': 'bbb', 'age': 11})\n",
      "('child3', {'name': 'ccc', 'age': 12})\n"
     ]
    }
   ],
   "source": [
    "for i in my_family.items():\n",
    "    print(i)"
   ]
  },
  {
   "cell_type": "code",
   "execution_count": 38,
   "id": "664b323f",
   "metadata": {},
   "outputs": [
    {
     "name": "stdout",
     "output_type": "stream",
     "text": [
      "{'child1': {'name': 'aaa', 'age': 10}, 'child2': {'name': 'bbb', 'age': 11}, 'child3': {'name': 'ccc', 'age': 12}}\n"
     ]
    }
   ],
   "source": [
    "child1 = {\"name\":'aaa','age':10}\n",
    "child2 = {\"name\":'bbb','age':11}\n",
    "child3 = {'name':'ccc','age':12}\n",
    "my_family = {'child1':child1, 'child2':child2, 'child3':child3}\n",
    "print(my_family)"
   ]
  },
  {
   "cell_type": "code",
   "execution_count": 41,
   "id": "8e2a36b9",
   "metadata": {},
   "outputs": [
    {
     "data": {
      "text/plain": [
       "'bbb'"
      ]
     },
     "execution_count": 41,
     "metadata": {},
     "output_type": "execute_result"
    }
   ],
   "source": [
    "my_family['child2']['name']"
   ]
  },
  {
   "cell_type": "code",
   "execution_count": 42,
   "id": "4b3770f5",
   "metadata": {},
   "outputs": [
    {
     "data": {
      "text/plain": [
       "12"
      ]
     },
     "execution_count": 42,
     "metadata": {},
     "output_type": "execute_result"
    }
   ],
   "source": [
    "my_family['child3']['age']"
   ]
  },
  {
   "cell_type": "code",
   "execution_count": 43,
   "id": "93518e43",
   "metadata": {},
   "outputs": [
    {
     "data": {
      "text/plain": [
       "False"
      ]
     },
     "execution_count": 43,
     "metadata": {},
     "output_type": "execute_result"
    }
   ],
   "source": [
    "d1 ={\"john\":40,'petter':45}\n",
    "d2 = {\"john\":466, 'petter':45}\n",
    "d1==d2"
   ]
  },
  {
   "cell_type": "code",
   "execution_count": 44,
   "id": "dd153fb3",
   "metadata": {},
   "outputs": [
    {
     "data": {
      "text/plain": [
       "True"
      ]
     },
     "execution_count": 44,
     "metadata": {},
     "output_type": "execute_result"
    }
   ],
   "source": [
    "d = {\"john\":40,'petter':45}\n",
    "\"john\" in d"
   ]
  },
  {
   "cell_type": "code",
   "execution_count": 51,
   "id": "9d5f5af9",
   "metadata": {},
   "outputs": [
    {
     "name": "stdout",
     "output_type": "stream",
     "text": [
      "['john', 'petter']\n",
      "[40, 45]\n",
      "[('john', 40), ('petter', 45)]\n"
     ]
    }
   ],
   "source": [
    "d = {\"john\":40,'petter':45}\n",
    "print(list(d.keys()))\n",
    "print(list(d.values()))\n",
    "print(list(d.items()))"
   ]
  },
  {
   "cell_type": "code",
   "execution_count": 52,
   "id": "85c83eb4",
   "metadata": {},
   "outputs": [],
   "source": [
    "del d"
   ]
  },
  {
   "cell_type": "code",
   "execution_count": 58,
   "id": "e7848858",
   "metadata": {},
   "outputs": [
    {
     "name": "stdout",
     "output_type": "stream",
     "text": [
      "{'petter': 45}\n"
     ]
    }
   ],
   "source": [
    "#del d1['john']\n",
    "print(d1)"
   ]
  },
  {
   "cell_type": "code",
   "execution_count": 59,
   "id": "e0713358",
   "metadata": {},
   "outputs": [],
   "source": [
    "test = {\"john\":40,'petter':45}\n",
    "test = {}"
   ]
  },
  {
   "cell_type": "code",
   "execution_count": 63,
   "id": "08ba2d28",
   "metadata": {},
   "outputs": [
    {
     "name": "stdout",
     "output_type": "stream",
     "text": [
      "{}\n"
     ]
    }
   ],
   "source": [
    "print(test)"
   ]
  },
  {
   "cell_type": "code",
   "execution_count": 65,
   "id": "00f921bb",
   "metadata": {},
   "outputs": [
    {
     "name": "stdout",
     "output_type": "stream",
     "text": [
      "0\n"
     ]
    }
   ],
   "source": [
    "print(len(test))"
   ]
  },
  {
   "cell_type": "code",
   "execution_count": 66,
   "id": "df734881",
   "metadata": {},
   "outputs": [
    {
     "name": "stdout",
     "output_type": "stream",
     "text": [
      "{'numbers': {1: 50, 3: 7}, 'letters': {4: 'B'}}\n"
     ]
    }
   ],
   "source": [
    "numbers = {}\n",
    "letters = {}\n",
    "comb = {}\n",
    "numbers[1] = 50\n",
    "numbers[3] = 7\n",
    "letters[4] = 'B'\n",
    "comb['numbers'] = numbers\n",
    "comb['letters'] = letters\n",
    "print(comb)"
   ]
  },
  {
   "cell_type": "markdown",
   "id": "c0ae2f11",
   "metadata": {},
   "source": [
    "# Function\n"
   ]
  },
  {
   "cell_type": "code",
   "execution_count": 80,
   "id": "1f6f8768",
   "metadata": {},
   "outputs": [
    {
     "name": "stdout",
     "output_type": "stream",
     "text": [
      "this is sabina\n"
     ]
    }
   ],
   "source": [
    "def display():\n",
    "    print(\"this is sabina\")\n",
    "display()"
   ]
  },
  {
   "cell_type": "code",
   "execution_count": 81,
   "id": "7ac805b7",
   "metadata": {},
   "outputs": [
    {
     "name": "stdout",
     "output_type": "stream",
     "text": [
      "20\n"
     ]
    }
   ],
   "source": [
    "# pre defined function\n",
    "def add():\n",
    "    print(10+10)\n",
    "add()"
   ]
  },
  {
   "cell_type": "code",
   "execution_count": 82,
   "id": "59f4f600",
   "metadata": {},
   "outputs": [
    {
     "name": "stdout",
     "output_type": "stream",
     "text": [
      "enter 1st number:10\n",
      "enter 2nd number:10\n",
      "20\n"
     ]
    }
   ],
   "source": [
    "# using user defined function\n",
    "def add():\n",
    "    a = int(input(\"enter 1st number:\"))\n",
    "    b = int(input(\"enter 2nd number:\"))\n",
    "    print(a+b)\n",
    "add()"
   ]
  },
  {
   "cell_type": "code",
   "execution_count": 94,
   "id": "3cfc821f",
   "metadata": {},
   "outputs": [
    {
     "name": "stdout",
     "output_type": "stream",
     "text": [
      "enter 1st number:10\n",
      "enter 2nd number:10\n",
      "20\n"
     ]
    }
   ],
   "source": [
    "def add(a,b):\n",
    "    print(a+b)\n",
    "a = int(input(\"enter 1st number:\"))\n",
    "b = int(input(\"enter 2nd number:\"))\n",
    "add(a,b)"
   ]
  },
  {
   "cell_type": "code",
   "execution_count": 95,
   "id": "958a3161",
   "metadata": {},
   "outputs": [
    {
     "name": "stdout",
     "output_type": "stream",
     "text": [
      "enter 1st number:10\n",
      "20\n"
     ]
    }
   ],
   "source": [
    "# by default it will consider b value is 10\n",
    "def add(a,b=10):\n",
    "    print(a+b)\n",
    "a = int(input(\"enter 1st number:\"))\n",
    "#b = int(input(\"enter 2nd number:\"))\n",
    "add(a)"
   ]
  },
  {
   "cell_type": "code",
   "execution_count": 97,
   "id": "ec45a7f7",
   "metadata": {},
   "outputs": [
    {
     "name": "stdout",
     "output_type": "stream",
     "text": [
      "enter 1st number:10\n",
      "enter 2nd number:4\n",
      "14\n"
     ]
    }
   ],
   "source": [
    "# insted of b=10 it will consider new value 4\n",
    "def add(a,b=10):\n",
    "    print(a+b)\n",
    "a = int(input(\"enter 1st number:\"))\n",
    "b = int(input(\"enter 2nd number:\")) # b = 4\n",
    "add(a,b)"
   ]
  },
  {
   "cell_type": "code",
   "execution_count": 103,
   "id": "3c473798",
   "metadata": {
    "scrolled": true
   },
   "outputs": [
    {
     "name": "stdout",
     "output_type": "stream",
     "text": [
      "enter p amount:1000\n",
      "rate of interest:2\n",
      "time:12\n",
      "240.0\n"
     ]
    }
   ],
   "source": [
    "def si(p,r,t):\n",
    "    result = (p*r*t)/100\n",
    "    print(result)\n",
    "a = int(input(\"enter p amount:\"))\n",
    "b = int(input(\"rate of interest:\"))\n",
    "c = int(input(\"time:\"))\n",
    "si(a,b,c)"
   ]
  },
  {
   "cell_type": "code",
   "execution_count": 104,
   "id": "729d5a4d",
   "metadata": {},
   "outputs": [
    {
     "name": "stdout",
     "output_type": "stream",
     "text": [
      "enter p amount:1000\n",
      "rate of interest:2\n",
      "240.0\n"
     ]
    }
   ],
   "source": [
    "def si(p,r,t=12):\n",
    "    result = (p*r*t)/100\n",
    "    print(result)\n",
    "a = int(input(\"enter p amount:\"))\n",
    "b = int(input(\"rate of interest:\"))\n",
    "#c = int(input(\"time:\"))\n",
    "si(a,b)"
   ]
  },
  {
   "cell_type": "code",
   "execution_count": 105,
   "id": "31de6382",
   "metadata": {},
   "outputs": [
    {
     "name": "stdout",
     "output_type": "stream",
     "text": [
      "enter p amount:1000\n",
      "rate of interest:2\n",
      "time:4\n",
      "80.0\n"
     ]
    }
   ],
   "source": [
    "def si(p,r,t=12):\n",
    "    result = (p*r*t)/100\n",
    "    print(result)\n",
    "a = int(input(\"enter p amount:\"))\n",
    "b = int(input(\"rate of interest:\"))\n",
    "c = int(input(\"time:\"))\n",
    "si(a,b,c)"
   ]
  },
  {
   "cell_type": "code",
   "execution_count": 106,
   "id": "b2e2b9a2",
   "metadata": {},
   "outputs": [
    {
     "data": {
      "text/plain": [
       "20"
      ]
     },
     "execution_count": 106,
     "metadata": {},
     "output_type": "execute_result"
    }
   ],
   "source": [
    "def add():\n",
    "    c = 10+10\n",
    "    return c\n",
    "add()"
   ]
  },
  {
   "cell_type": "code",
   "execution_count": 107,
   "id": "b4dd69d4",
   "metadata": {},
   "outputs": [
    {
     "name": "stdout",
     "output_type": "stream",
     "text": [
      "enter 1st number:10\n",
      "enter 2nd number:10\n"
     ]
    },
    {
     "data": {
      "text/plain": [
       "20"
      ]
     },
     "execution_count": 107,
     "metadata": {},
     "output_type": "execute_result"
    }
   ],
   "source": [
    "def add(a,b):\n",
    "    c =a+b\n",
    "    return c\n",
    "a = int(input(\"enter 1st number:\"))\n",
    "b = int(input(\"enter 2nd number:\"))\n",
    "add(a,b)"
   ]
  },
  {
   "cell_type": "code",
   "execution_count": 109,
   "id": "7d8b7fdb",
   "metadata": {},
   "outputs": [
    {
     "name": "stdout",
     "output_type": "stream",
     "text": [
      "enter 1st number:10\n",
      "enter 2nd number:10\n",
      "20\n"
     ]
    }
   ],
   "source": [
    "def add(a,b):\n",
    "    c =a+b\n",
    "    return c\n",
    "a = int(input(\"enter 1st number:\"))\n",
    "b = int(input(\"enter 2nd number:\"))\n",
    "p= add(a,b)\n",
    "print(p)"
   ]
  },
  {
   "cell_type": "code",
   "execution_count": 112,
   "id": "1455b4fc",
   "metadata": {},
   "outputs": [
    {
     "name": "stdout",
     "output_type": "stream",
     "text": [
      "20\n"
     ]
    }
   ],
   "source": [
    "# lambda function:> it has no name i.e called anonymous function\n",
    "x = lambda a:a+b\n",
    "print(x(10))"
   ]
  },
  {
   "cell_type": "code",
   "execution_count": 118,
   "id": "8388b0d7",
   "metadata": {},
   "outputs": [
    {
     "name": "stdout",
     "output_type": "stream",
     "text": [
      "20\n",
      "100\n"
     ]
    }
   ],
   "source": [
    "x1 = lambda a,b : a+b\n",
    "x2 = lambda p,q : p*q\n",
    "print(x1(10,10))\n",
    "print(x2(10,10))\n"
   ]
  },
  {
   "cell_type": "code",
   "execution_count": 120,
   "id": "b5308e5e",
   "metadata": {},
   "outputs": [
    {
     "name": "stdout",
     "output_type": "stream",
     "text": [
      "20\n",
      "10\n"
     ]
    }
   ],
   "source": [
    "# global and local variables\n",
    "a = 10 # global\n",
    "def func():\n",
    "    a = 20 # local \n",
    "    print(a)\n",
    "func()\n",
    "print(a)"
   ]
  },
  {
   "cell_type": "code",
   "execution_count": 121,
   "id": "0dd474e2",
   "metadata": {},
   "outputs": [
    {
     "name": "stdout",
     "output_type": "stream",
     "text": [
      "99\n",
      "99\n"
     ]
    }
   ],
   "source": [
    "a = 88\n",
    "def fun():\n",
    "    global a \n",
    "    a = 99\n",
    "    print(a)\n",
    "fun()\n",
    "print(a)"
   ]
  },
  {
   "cell_type": "code",
   "execution_count": null,
   "id": "3bd30b19",
   "metadata": {},
   "outputs": [],
   "source": []
  }
 ],
 "metadata": {
  "kernelspec": {
   "display_name": "Python 3 (ipykernel)",
   "language": "python",
   "name": "python3"
  },
  "language_info": {
   "codemirror_mode": {
    "name": "ipython",
    "version": 3
   },
   "file_extension": ".py",
   "mimetype": "text/x-python",
   "name": "python",
   "nbconvert_exporter": "python",
   "pygments_lexer": "ipython3",
   "version": "3.11.5"
  }
 },
 "nbformat": 4,
 "nbformat_minor": 5
}
