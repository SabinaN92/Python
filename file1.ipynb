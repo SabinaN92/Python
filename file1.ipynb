{
 "cells": [
  {
   "cell_type": "code",
   "execution_count": 1,
   "id": "a8c60df4",
   "metadata": {},
   "outputs": [
    {
     "data": {
      "text/plain": [
       "' Python is widely used general purpose, high level programming language.\\ndeveloped by Guido van Rossum in 1991, It is help to create applications and ext..\\nIt is easy to write and understand.\\nIt runs faster\\n\\nFeatures :-\\nIt is very developer friendly langauge\\nAnyone can create and it is free to download\\nIt can run on any os(linux, windows, etc)\\nSpecifying variable type is not required\\nIt executes the code line by line\\nPython supports large no. of standard inbuilt libraries which makes programming simple and convenient'"
      ]
     },
     "execution_count": 1,
     "metadata": {},
     "output_type": "execute_result"
    }
   ],
   "source": [
    "''' Python is widely used general purpose, high level programming language.\n",
    "developed by Guido van Rossum in 1991, It is help to create applications and etc..\n",
    "It is easy to write and understand.\n",
    "It runs faster\n",
    "\n",
    "Features :-\n",
    "It is very developer friendly langauge\n",
    "Anyone can create and it is free to download\n",
    "It can run on any os(linux, windows, etc)\n",
    "Specifying variable type is not required\n",
    "It executes the code line by line\n",
    "Python supports large no. of standard inbuilt libraries which makes programming simple and convenient'''\n",
    "\n"
   ]
  },
  {
   "cell_type": "code",
   "execution_count": 2,
   "id": "ed7d4eb6",
   "metadata": {},
   "outputs": [],
   "source": [
    "# print() function always give you the output\n",
    "# type() will you the type of data\n",
    "# In python we have only two things with green color 1) Keywords,  2) numbers "
   ]
  },
  {
   "cell_type": "code",
   "execution_count": 13,
   "id": "0ae69d00",
   "metadata": {},
   "outputs": [
    {
     "data": {
      "text/plain": [
       "'comments\\n1) single line comment (#)\\n2) Multi line comment ()\\n'"
      ]
     },
     "execution_count": 13,
     "metadata": {},
     "output_type": "execute_result"
    }
   ],
   "source": [
    "'''comments\n",
    "1) single line comment (#)\n",
    "2) Multi line comment (''' ''')\n",
    "'''"
   ]
  },
  {
   "cell_type": "code",
   "execution_count": 14,
   "id": "d15ca18c",
   "metadata": {},
   "outputs": [
    {
     "data": {
      "text/plain": [
       "\" Variable Rules\\n1) case sensitive\\n2) space is not allowed\\n3) Expect underscore other special charecters are not allowed\\n4) numbers are allowed but we can't start variable name with number\\n5) we can't use keywords\\n\""
      ]
     },
     "execution_count": 14,
     "metadata": {},
     "output_type": "execute_result"
    }
   ],
   "source": [
    "''' Variable Rules\n",
    "1) case sensitive\n",
    "2) space is not allowed\n",
    "3) Expect underscore other special charecters are not allowed\n",
    "4) numbers are allowed but we can't start variable name with number\n",
    "5) we can't use keywords\n",
    "'''"
   ]
  },
  {
   "cell_type": "code",
   "execution_count": 15,
   "id": "2c8e80b3",
   "metadata": {},
   "outputs": [
    {
     "name": "stdout",
     "output_type": "stream",
     "text": [
      "10\n"
     ]
    }
   ],
   "source": [
    "a = 10\n",
    "# print(A) Error\n",
    "print(a)"
   ]
  },
  {
   "cell_type": "code",
   "execution_count": 18,
   "id": "64338aee",
   "metadata": {},
   "outputs": [
    {
     "name": "stdout",
     "output_type": "stream",
     "text": [
      "xyz\n"
     ]
    }
   ],
   "source": [
    "# first name = 'xyz' -> Error\n",
    "firstname = 'xyz'\n",
    "print(firstname)"
   ]
  },
  {
   "cell_type": "code",
   "execution_count": 19,
   "id": "d008a78a",
   "metadata": {},
   "outputs": [
    {
     "name": "stdout",
     "output_type": "stream",
     "text": [
      "xyz\n"
     ]
    }
   ],
   "source": [
    "_first_name = 'xyz'\n",
    "print(_first_name)"
   ]
  },
  {
   "cell_type": "code",
   "execution_count": 20,
   "id": "3ca48a46",
   "metadata": {},
   "outputs": [
    {
     "name": "stdout",
     "output_type": "stream",
     "text": [
      "10\n"
     ]
    }
   ],
   "source": [
    "# 7grade = 10 -> Error\n",
    "grade7 = 10\n",
    "print(grade7)"
   ]
  },
  {
   "cell_type": "code",
   "execution_count": 25,
   "id": "d5f7eadd",
   "metadata": {},
   "outputs": [
    {
     "name": "stdout",
     "output_type": "stream",
     "text": [
      "10 20\n"
     ]
    }
   ],
   "source": [
    "# class, print = 10  -> Error\n",
    "Print, Class = 10, 20\n",
    "print(Print, Class)"
   ]
  },
  {
   "cell_type": "code",
   "execution_count": 26,
   "id": "d365bf49",
   "metadata": {},
   "outputs": [
    {
     "data": {
      "text/plain": [
       "' Type Conversion \\ndef -> it is the process of converting the value of one data type to another data type.\\ntwo types\\n1) implicit type covertion\\n   without converting into any datatype still we are able to perform operation i.e called implicit type converion.\\n   python avoids the loss of data in implicit type conversion\\n   \\n2) Explicit type conversion (Type Casting)\\n   the data types of objects are converted using predefined functions by the users.\\n'"
      ]
     },
     "execution_count": 26,
     "metadata": {},
     "output_type": "execute_result"
    }
   ],
   "source": [
    "''' Type Conversion \n",
    "def -> it is the process of converting the value of one data type to another data type.\n",
    "two types\n",
    "1) implicit type covertion\n",
    "   without converting into any datatype still we are able to perform operation i.e called implicit type converion.\n",
    "   python avoids the loss of data in implicit type conversion\n",
    "   \n",
    "2) Explicit type conversion (Type Casting)\n",
    "   the data types of objects are converted using predefined functions by the users.\n",
    "'''"
   ]
  },
  {
   "cell_type": "code",
   "execution_count": 27,
   "id": "74e879a5",
   "metadata": {},
   "outputs": [
    {
     "name": "stdout",
     "output_type": "stream",
     "text": [
      "22.5\n"
     ]
    }
   ],
   "source": [
    "a = 10\n",
    "b = 12.5\n",
    "print(a+b)"
   ]
  },
  {
   "cell_type": "code",
   "execution_count": 28,
   "id": "557af014",
   "metadata": {},
   "outputs": [
    {
     "name": "stdout",
     "output_type": "stream",
     "text": [
      "10\n"
     ]
    }
   ],
   "source": [
    "c = 5\n",
    "d = 5.5\n",
    "e = int(d)\n",
    "f = c+e\n",
    "print(f)"
   ]
  },
  {
   "cell_type": "code",
   "execution_count": 31,
   "id": "af1bcc8d",
   "metadata": {},
   "outputs": [
    {
     "name": "stdout",
     "output_type": "stream",
     "text": [
      "10sabina\n"
     ]
    }
   ],
   "source": [
    "s = 10\n",
    "r = 'sabina'\n",
    "p = str(s)\n",
    "q = p+r\n",
    "print(q)"
   ]
  },
  {
   "cell_type": "code",
   "execution_count": null,
   "id": "a6c78a6e",
   "metadata": {},
   "outputs": [],
   "source": []
  }
 ],
 "metadata": {
  "kernelspec": {
   "display_name": "Python 3 (ipykernel)",
   "language": "python",
   "name": "python3"
  },
  "language_info": {
   "codemirror_mode": {
    "name": "ipython",
    "version": 3
   },
   "file_extension": ".py",
   "mimetype": "text/x-python",
   "name": "python",
   "nbconvert_exporter": "python",
   "pygments_lexer": "ipython3",
   "version": "3.11.4"
  }
 },
 "nbformat": 4,
 "nbformat_minor": 5
}
