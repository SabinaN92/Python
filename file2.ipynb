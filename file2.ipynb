{
 "cells": [
  {
   "cell_type": "code",
   "execution_count": 3,
   "id": "b631a5f2",
   "metadata": {},
   "outputs": [
    {
     "name": "stdout",
     "output_type": "stream",
     "text": [
      "xyz has 50 age for retiring\n"
     ]
    }
   ],
   "source": [
    "name = 'xyz'\n",
    "years = 50\n",
    "print(name, 'has', years, 'age for retiring')"
   ]
  },
  {
   "cell_type": "markdown",
   "id": "5c556861",
   "metadata": {},
   "source": [
    "Operators"
   ]
  },
  {
   "cell_type": "code",
   "execution_count": 7,
   "id": "2d47dd4a",
   "metadata": {},
   "outputs": [
    {
     "name": "stdout",
     "output_type": "stream",
     "text": [
      "9\n"
     ]
    }
   ],
   "source": [
    "# Addition\n",
    "a = 5\n",
    "b = 4\n",
    "c = a+b\n",
    "print(c)"
   ]
  },
  {
   "cell_type": "code",
   "execution_count": 8,
   "id": "7012ccf6",
   "metadata": {},
   "outputs": [
    {
     "data": {
      "text/plain": [
       "1"
      ]
     },
     "execution_count": 8,
     "metadata": {},
     "output_type": "execute_result"
    }
   ],
   "source": [
    "# substraction\n",
    "d = a-b\n",
    "d"
   ]
  },
  {
   "cell_type": "code",
   "execution_count": 9,
   "id": "781222b6",
   "metadata": {},
   "outputs": [
    {
     "data": {
      "text/plain": [
       "20"
      ]
     },
     "execution_count": 9,
     "metadata": {},
     "output_type": "execute_result"
    }
   ],
   "source": [
    "# Multiplication\n",
    "e = a*b\n",
    "e"
   ]
  },
  {
   "cell_type": "code",
   "execution_count": 10,
   "id": "bb159d10",
   "metadata": {},
   "outputs": [
    {
     "data": {
      "text/plain": [
       "1.25"
      ]
     },
     "execution_count": 10,
     "metadata": {},
     "output_type": "execute_result"
    }
   ],
   "source": [
    "# Division\n",
    "f = a/b\n",
    "f"
   ]
  },
  {
   "cell_type": "code",
   "execution_count": 13,
   "id": "16e0ebf9",
   "metadata": {},
   "outputs": [
    {
     "name": "stdout",
     "output_type": "stream",
     "text": [
      "1.25\n",
      "1\n",
      "1\n"
     ]
    }
   ],
   "source": [
    "print(a/b) # Quotient\n",
    "print(a%b) # remainder\n",
    "print(a//b) # Quotient, Floor division - it will give you only integer value"
   ]
  },
  {
   "cell_type": "code",
   "execution_count": 14,
   "id": "8bff0ef4",
   "metadata": {},
   "outputs": [
    {
     "name": "stdout",
     "output_type": "stream",
     "text": [
      "<class 'int'>\n"
     ]
    }
   ],
   "source": [
    "q = a//b\n",
    "print(type(q))"
   ]
  },
  {
   "cell_type": "code",
   "execution_count": 15,
   "id": "56e67210",
   "metadata": {},
   "outputs": [
    {
     "data": {
      "text/plain": [
       "float"
      ]
     },
     "execution_count": 15,
     "metadata": {},
     "output_type": "execute_result"
    }
   ],
   "source": [
    "type(f)"
   ]
  },
  {
   "cell_type": "code",
   "execution_count": 17,
   "id": "0f856671",
   "metadata": {},
   "outputs": [
    {
     "name": "stdout",
     "output_type": "stream",
     "text": [
      "25\n"
     ]
    }
   ],
   "source": [
    "# Exponentiation of two numbers\n",
    "a = 5\n",
    "b = 2\n",
    "c = a**b # 5 to the power of 2\n",
    "print(c)"
   ]
  },
  {
   "cell_type": "code",
   "execution_count": 34,
   "id": "00e07d18",
   "metadata": {},
   "outputs": [
    {
     "data": {
      "text/plain": [
       "7"
      ]
     },
     "execution_count": 34,
     "metadata": {},
     "output_type": "execute_result"
    }
   ],
   "source": [
    "# Assignment operators\n",
    "a = 5\n",
    "b = 2\n",
    "a = a+b\n",
    "a"
   ]
  },
  {
   "cell_type": "code",
   "execution_count": 37,
   "id": "1e0587bf",
   "metadata": {},
   "outputs": [
    {
     "data": {
      "text/plain": [
       "7"
      ]
     },
     "execution_count": 37,
     "metadata": {},
     "output_type": "execute_result"
    }
   ],
   "source": [
    "a = 5\n",
    "b = 2\n",
    "a += b\n",
    "a"
   ]
  },
  {
   "cell_type": "code",
   "execution_count": 38,
   "id": "1e2b9f07",
   "metadata": {},
   "outputs": [
    {
     "data": {
      "text/plain": [
       "2.5"
      ]
     },
     "execution_count": 38,
     "metadata": {},
     "output_type": "execute_result"
    }
   ],
   "source": [
    "a = 5\n",
    "b = 2\n",
    "a /= b\n",
    "a"
   ]
  },
  {
   "cell_type": "code",
   "execution_count": 40,
   "id": "615db734",
   "metadata": {},
   "outputs": [
    {
     "data": {
      "text/plain": [
       "10"
      ]
     },
     "execution_count": 40,
     "metadata": {},
     "output_type": "execute_result"
    }
   ],
   "source": [
    "a = 5\n",
    "b = 2\n",
    "a *= b # a = a*2\n",
    "a"
   ]
  },
  {
   "cell_type": "code",
   "execution_count": 41,
   "id": "b352ee45",
   "metadata": {},
   "outputs": [
    {
     "data": {
      "text/plain": [
       "2"
      ]
     },
     "execution_count": 41,
     "metadata": {},
     "output_type": "execute_result"
    }
   ],
   "source": [
    "a = 5\n",
    "b = 2\n",
    "a //= b\n",
    "a"
   ]
  },
  {
   "cell_type": "code",
   "execution_count": 42,
   "id": "83ffce0d",
   "metadata": {},
   "outputs": [
    {
     "data": {
      "text/plain": [
       "1"
      ]
     },
     "execution_count": 42,
     "metadata": {},
     "output_type": "execute_result"
    }
   ],
   "source": [
    "a = 5\n",
    "b = 2\n",
    "a %= b\n",
    "a"
   ]
  },
  {
   "cell_type": "code",
   "execution_count": 43,
   "id": "33000ba3",
   "metadata": {},
   "outputs": [
    {
     "data": {
      "text/plain": [
       "25"
      ]
     },
     "execution_count": 43,
     "metadata": {},
     "output_type": "execute_result"
    }
   ],
   "source": [
    "a = 5\n",
    "b = 2\n",
    "a **= b\n",
    "a"
   ]
  },
  {
   "cell_type": "code",
   "execution_count": 55,
   "id": "f26f0ceb",
   "metadata": {},
   "outputs": [
    {
     "data": {
      "text/plain": [
       "1"
      ]
     },
     "execution_count": 55,
     "metadata": {},
     "output_type": "execute_result"
    }
   ],
   "source": [
    "# bitwise AND and assign\n",
    "a = 3\n",
    "b = 5 \n",
    "a &= b\n",
    "a"
   ]
  },
  {
   "cell_type": "code",
   "execution_count": 56,
   "id": "8bbd0b96",
   "metadata": {},
   "outputs": [
    {
     "data": {
      "text/plain": [
       "7"
      ]
     },
     "execution_count": 56,
     "metadata": {},
     "output_type": "execute_result"
    }
   ],
   "source": [
    "# Bitwise OR and assign\n",
    "a = 3 \n",
    "b = 5\n",
    "a |= b\n",
    "a"
   ]
  },
  {
   "cell_type": "code",
   "execution_count": 57,
   "id": "b91ebf41",
   "metadata": {},
   "outputs": [
    {
     "data": {
      "text/plain": [
       "6"
      ]
     },
     "execution_count": 57,
     "metadata": {},
     "output_type": "execute_result"
    }
   ],
   "source": [
    "# Bitwise XOR and assign\n",
    "a = 3\n",
    "b = 5\n",
    "a ^= b\n",
    "a"
   ]
  },
  {
   "cell_type": "code",
   "execution_count": 3,
   "id": "b0807d67",
   "metadata": {},
   "outputs": [
    {
     "name": "stdout",
     "output_type": "stream",
     "text": [
      "staff name:Ruhi\n",
      "Age:39\n",
      "Ruhi has 11 years for retiring\n"
     ]
    }
   ],
   "source": [
    "# HW\n",
    "name = input(\"staff name:\")\n",
    "age = int(input('Age:'))\n",
    "print(name, 'has', 50-age, 'years for retiring')"
   ]
  },
  {
   "cell_type": "code",
   "execution_count": 4,
   "id": "3c5d5229",
   "metadata": {},
   "outputs": [
    {
     "name": "stdout",
     "output_type": "stream",
     "text": [
      "customer name:abdul\n",
      "contact number:7975701493\n",
      "location:Bangalore\n",
      "Thank you for visiting abdul\n"
     ]
    }
   ],
   "source": [
    "name = input(\"customer name:\")\n",
    "phone_number = int(input(\"contact number:\"))\n",
    "location = input(\"location:\")\n",
    "print(\"Thank you for visiting\", name)"
   ]
  },
  {
   "cell_type": "code",
   "execution_count": 5,
   "id": "d05d6317",
   "metadata": {},
   "outputs": [
    {
     "name": "stdout",
     "output_type": "stream",
     "text": [
      "first number:10\n",
      "second number:20\n",
      "values before swapping:\n",
      " a: 10 b: 20\n",
      "values after swappig:\n",
      " a: 10 b: 10\n"
     ]
    }
   ],
   "source": [
    "a = int(input(\"first number:\"))\n",
    "b = int(input(\"second number:\"))\n",
    "print(\"values before swapping:\\n a:\",a, \"b:\", b)\n",
    "c = a\n",
    "a = b\n",
    "b = c\n",
    "print(\"values after swappig:\\n a:\", b, \"b:\",b)"
   ]
  },
  {
   "cell_type": "code",
   "execution_count": 8,
   "id": "2515f12e",
   "metadata": {},
   "outputs": [
    {
     "name": "stdout",
     "output_type": "stream",
     "text": [
      "user name :sabina\n",
      "Age :30\n",
      "user address :Bangalore\n",
      "user name is:  sabina \n",
      "user age is: 30 \n",
      "user address is: Bangalore\n"
     ]
    }
   ],
   "source": [
    "name = input(\"user name :\")\n",
    "age = int(input(\"Age :\"))\n",
    "address = input(\"user address :\")\n",
    "print(\"user name is: \", name,'\\n' \"user age is:\", age,'\\n' \"user address is:\", address)"
   ]
  },
  {
   "cell_type": "code",
   "execution_count": null,
   "id": "747816ce",
   "metadata": {},
   "outputs": [],
   "source": []
  }
 ],
 "metadata": {
  "kernelspec": {
   "display_name": "Python 3 (ipykernel)",
   "language": "python",
   "name": "python3"
  },
  "language_info": {
   "codemirror_mode": {
    "name": "ipython",
    "version": 3
   },
   "file_extension": ".py",
   "mimetype": "text/x-python",
   "name": "python",
   "nbconvert_exporter": "python",
   "pygments_lexer": "ipython3",
   "version": "3.11.4"
  }
 },
 "nbformat": 4,
 "nbformat_minor": 5
}
