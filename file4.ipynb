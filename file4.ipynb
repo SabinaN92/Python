{
 "cells": [
  {
   "cell_type": "code",
   "execution_count": 1,
   "id": "808bcd12",
   "metadata": {},
   "outputs": [
    {
     "name": "stdout",
     "output_type": "stream",
     "text": [
      "-4\n"
     ]
    }
   ],
   "source": [
    "print(-10//3) # here we get two values -3 and -4. we consider -4 is the answer bcz -4 is less than -3"
   ]
  },
  {
   "cell_type": "code",
   "execution_count": 2,
   "id": "ab6d1765",
   "metadata": {},
   "outputs": [
    {
     "name": "stdout",
     "output_type": "stream",
     "text": [
      "3\n"
     ]
    }
   ],
   "source": [
    "print(10//3)"
   ]
  },
  {
   "cell_type": "code",
   "execution_count": 3,
   "id": "f551fc61",
   "metadata": {},
   "outputs": [
    {
     "name": "stdout",
     "output_type": "stream",
     "text": [
      "512\n"
     ]
    }
   ],
   "source": [
    "print(2**3**2)"
   ]
  },
  {
   "cell_type": "code",
   "execution_count": 4,
   "id": "e8d96617",
   "metadata": {},
   "outputs": [
    {
     "name": "stdout",
     "output_type": "stream",
     "text": [
      "python uses \n",
      " for newline\n"
     ]
    }
   ],
   "source": [
    "print(\"python uses \\n for newline\")"
   ]
  },
  {
   "cell_type": "code",
   "execution_count": 5,
   "id": "d663497b",
   "metadata": {},
   "outputs": [
    {
     "name": "stdout",
     "output_type": "stream",
     "text": [
      "\"python uses \n",
      " for newline\"\n"
     ]
    }
   ],
   "source": [
    "print('\"python uses \\n for newline\"')"
   ]
  },
  {
   "cell_type": "code",
   "execution_count": 6,
   "id": "b4b9ce23",
   "metadata": {},
   "outputs": [
    {
     "name": "stdout",
     "output_type": "stream",
     "text": [
      "python uses \\n for newline\n"
     ]
    }
   ],
   "source": [
    "print(\"python uses \\\\n for newline\") # \\\\ treat as normal text"
   ]
  },
  {
   "cell_type": "code",
   "execution_count": 7,
   "id": "366b4b24",
   "metadata": {},
   "outputs": [
    {
     "name": "stdout",
     "output_type": "stream",
     "text": [
      "/\n"
     ]
    }
   ],
   "source": [
    "print(\"/\")"
   ]
  },
  {
   "cell_type": "code",
   "execution_count": 8,
   "id": "9b20a4f0",
   "metadata": {},
   "outputs": [
    {
     "ename": "SyntaxError",
     "evalue": "unterminated string literal (detected at line 1) (2715195110.py, line 1)",
     "output_type": "error",
     "traceback": [
      "\u001b[1;36m  Cell \u001b[1;32mIn[8], line 1\u001b[1;36m\u001b[0m\n\u001b[1;33m    print(\"/\\\")\u001b[0m\n\u001b[1;37m          ^\u001b[0m\n\u001b[1;31mSyntaxError\u001b[0m\u001b[1;31m:\u001b[0m unterminated string literal (detected at line 1)\n"
     ]
    }
   ],
   "source": [
    "print(\"/\\\")"
   ]
  },
  {
   "cell_type": "code",
   "execution_count": 9,
   "id": "fbe77491",
   "metadata": {},
   "outputs": [
    {
     "name": "stdout",
     "output_type": "stream",
     "text": [
      "/\\\n"
     ]
    }
   ],
   "source": [
    "print(\"/\\\\\")"
   ]
  },
  {
   "cell_type": "code",
   "execution_count": 11,
   "id": "2c14975e",
   "metadata": {},
   "outputs": [
    {
     "name": "stdout",
     "output_type": "stream",
     "text": [
      "/\\/\\/\\/\\\n"
     ]
    }
   ],
   "source": [
    "print(\"/\\\\/\\\\/\\\\/\\\\\")"
   ]
  },
  {
   "cell_type": "code",
   "execution_count": 29,
   "id": "512d09a8",
   "metadata": {},
   "outputs": [
    {
     "name": "stdout",
     "output_type": "stream",
     "text": [
      "\n"
     ]
    }
   ],
   "source": [
    "name = \"shantanu\"\n",
    "print(name[2:8:-2])"
   ]
  },
  {
   "cell_type": "code",
   "execution_count": 28,
   "id": "4c4fdb22",
   "metadata": {},
   "outputs": [
    {
     "name": "stdout",
     "output_type": "stream",
     "text": [
      "atn\n"
     ]
    }
   ],
   "source": [
    "name = \"shantanu\"\n",
    "print(name[2:8:2])"
   ]
  },
  {
   "cell_type": "code",
   "execution_count": 32,
   "id": "49da03c5",
   "metadata": {},
   "outputs": [
    {
     "name": "stdout",
     "output_type": "stream",
     "text": [
      "<class 'dict'>\n"
     ]
    }
   ],
   "source": [
    "a = {}\n",
    "print(type(a))"
   ]
  },
  {
   "cell_type": "code",
   "execution_count": 33,
   "id": "7bf0e5cf",
   "metadata": {},
   "outputs": [
    {
     "data": {
      "text/plain": [
       "{'jay': 30, 'ray': 20}"
      ]
     },
     "execution_count": 33,
     "metadata": {},
     "output_type": "execute_result"
    }
   ],
   "source": [
    "my_dist = {\"jay\":10, \"ray\":20, 'jay':30}\n",
    "my_dist"
   ]
  },
  {
   "cell_type": "code",
   "execution_count": 36,
   "id": "d03691e3",
   "metadata": {},
   "outputs": [
    {
     "name": "stdout",
     "output_type": "stream",
     "text": [
      "2\n"
     ]
    }
   ],
   "source": [
    "print(len(my_dist)) # bcz duplicate keys are not allowed in dictionry, it overwrite the value"
   ]
  },
  {
   "cell_type": "code",
   "execution_count": 37,
   "id": "0d6b5d6b",
   "metadata": {},
   "outputs": [
    {
     "name": "stdout",
     "output_type": "stream",
     "text": [
      "[1, 2, 3, 4, 5, 6, 7, 8, 9]\n"
     ]
    }
   ],
   "source": [
    "a = [1,2,3]\n",
    "b = [4,5,6]\n",
    "c = [7,8,9]\n",
    "print(a+b+c)"
   ]
  },
  {
   "cell_type": "code",
   "execution_count": 38,
   "id": "3f7a3307",
   "metadata": {},
   "outputs": [
    {
     "data": {
      "text/plain": [
       "<zip at 0x1fd30312940>"
      ]
     },
     "execution_count": 38,
     "metadata": {},
     "output_type": "execute_result"
    }
   ],
   "source": [
    "zip(a,b,c)"
   ]
  },
  {
   "cell_type": "code",
   "execution_count": 39,
   "id": "068f1d03",
   "metadata": {},
   "outputs": [
    {
     "data": {
      "text/plain": [
       "[(1, 4, 7), (2, 5, 8), (3, 6, 9)]"
      ]
     },
     "execution_count": 39,
     "metadata": {},
     "output_type": "execute_result"
    }
   ],
   "source": [
    "list(zip(a,b,c))"
   ]
  },
  {
   "cell_type": "code",
   "execution_count": 40,
   "id": "91c873bb",
   "metadata": {},
   "outputs": [
    {
     "data": {
      "text/plain": [
       "((1, 4, 7), (2, 5, 8), (3, 6, 9))"
      ]
     },
     "execution_count": 40,
     "metadata": {},
     "output_type": "execute_result"
    }
   ],
   "source": [
    "tuple(zip(a,b,c))"
   ]
  },
  {
   "cell_type": "code",
   "execution_count": 41,
   "id": "d68e076e",
   "metadata": {},
   "outputs": [
    {
     "name": "stdout",
     "output_type": "stream",
     "text": [
      "  python is programming language  \n"
     ]
    }
   ],
   "source": [
    "a = (\"  python is programming language  \")\n",
    "print(a)"
   ]
  },
  {
   "cell_type": "code",
   "execution_count": 45,
   "id": "851d0beb",
   "metadata": {},
   "outputs": [
    {
     "name": "stdout",
     "output_type": "stream",
     "text": [
      "\"  python is a programming language  \"\n"
     ]
    }
   ],
   "source": [
    "a = ('\"  python is a programming language  \"')\n",
    "print(a)"
   ]
  },
  {
   "cell_type": "code",
   "execution_count": 54,
   "id": "8b5199cd",
   "metadata": {},
   "outputs": [
    {
     "name": "stdout",
     "output_type": "stream",
     "text": [
      "banana    \n"
     ]
    }
   ],
   "source": [
    "b = (\",,,,,tttgg....banana    rrrr\") \n",
    "print(b.strip(\",.tgr\"))"
   ]
  },
  {
   "cell_type": "code",
   "execution_count": 58,
   "id": "28ee344e",
   "metadata": {},
   "outputs": [
    {
     "name": "stdout",
     "output_type": "stream",
     "text": [
      "SABINA\n"
     ]
    }
   ],
   "source": [
    "s = \"sabina\"\n",
    "print(s.upper())"
   ]
  },
  {
   "cell_type": "code",
   "execution_count": 56,
   "id": "fa0fae09",
   "metadata": {},
   "outputs": [
    {
     "name": "stdout",
     "output_type": "stream",
     "text": [
      "sabina\n"
     ]
    }
   ],
   "source": [
    "s = \"sabina\"\n",
    "print(s.lower())"
   ]
  },
  {
   "cell_type": "code",
   "execution_count": 67,
   "id": "50ad4e40",
   "metadata": {},
   "outputs": [
    {
     "name": "stdout",
     "output_type": "stream",
     "text": [
      "Sabina\n"
     ]
    }
   ],
   "source": [
    "s = \"sabina\"\n",
    "print(s.replace(\"s\",\"S\"))"
   ]
  },
  {
   "cell_type": "code",
   "execution_count": 71,
   "id": "36c6915a",
   "metadata": {},
   "outputs": [
    {
     "name": "stdout",
     "output_type": "stream",
     "text": [
      "3\n",
      "3.0\n",
      "3.0\n"
     ]
    }
   ],
   "source": [
    "print(10//3)\n",
    "print(10.0//3)\n",
    "print(10//3.0) # if any one operand is float it will give float value"
   ]
  },
  {
   "cell_type": "code",
   "execution_count": 78,
   "id": "b4e8e56c",
   "metadata": {},
   "outputs": [
    {
     "name": "stdout",
     "output_type": "stream",
     "text": [
      "100.0\n"
     ]
    }
   ],
   "source": [
    "num = 1E2\n",
    "print(num)"
   ]
  },
  {
   "cell_type": "code",
   "execution_count": 81,
   "id": "e57e08f9",
   "metadata": {},
   "outputs": [
    {
     "name": "stdout",
     "output_type": "stream",
     "text": [
      "2000.0\n"
     ]
    }
   ],
   "source": [
    "num = 2e3 # e or E means exponential and 10 is the base,3 is the power, 2 * 10**3 and always it will give float value\n",
    "print(num)"
   ]
  },
  {
   "cell_type": "code",
   "execution_count": 86,
   "id": "8f986412",
   "metadata": {},
   "outputs": [
    {
     "ename": "TypeError",
     "evalue": "'bool' object is not iterable",
     "output_type": "error",
     "traceback": [
      "\u001b[1;31m---------------------------------------------------------------------------\u001b[0m",
      "\u001b[1;31mTypeError\u001b[0m                                 Traceback (most recent call last)",
      "Cell \u001b[1;32mIn[86], line 1\u001b[0m\n\u001b[1;32m----> 1\u001b[0m \u001b[38;5;28;01mfor\u001b[39;00m i \u001b[38;5;129;01min\u001b[39;00m \u001b[38;5;241m786\u001b[39m\u001b[38;5;241m>\u001b[39m\u001b[38;5;241m1\u001b[39m:\n\u001b[0;32m      2\u001b[0m     \u001b[38;5;28mprint\u001b[39m(i)\n",
      "\u001b[1;31mTypeError\u001b[0m: 'bool' object is not iterable"
     ]
    }
   ],
   "source": [
    "for i in 786>1:  # it will give an error bcz 786<1 (False) is condition \n",
    "    print(i)"
   ]
  },
  {
   "cell_type": "code",
   "execution_count": 93,
   "id": "5af1f2bc",
   "metadata": {},
   "outputs": [
    {
     "name": "stdout",
     "output_type": "stream",
     "text": [
      "6 , 6\n",
      "False\n",
      "True\n"
     ]
    }
   ],
   "source": [
    "# ord() returns the integer value that represents the character \n",
    "a = \"Sabina\" # for each character have a ord number\n",
    "b = \"sabina\"\n",
    "print(len(a),',',len(b))\n",
    "print(a==b)\n",
    "print(a<b) "
   ]
  },
  {
   "cell_type": "code",
   "execution_count": 99,
   "id": "a6aeec03",
   "metadata": {},
   "outputs": [
    {
     "name": "stdout",
     "output_type": "stream",
     "text": [
      "small alpabets range start from 97 to 122\n",
      "capital alpabets range start from 65 to 90\n"
     ]
    }
   ],
   "source": [
    "print(\"small alpabets range start from\",ord('a'),\"to\",ord('z') )\n",
    "print(\"capital alpabets range start from\",ord('A'),\"to\",ord('Z') )"
   ]
  },
  {
   "cell_type": "code",
   "execution_count": 101,
   "id": "665271d0",
   "metadata": {},
   "outputs": [
    {
     "name": "stdout",
     "output_type": "stream",
     "text": [
      "10 is greater than 20\n"
     ]
    }
   ],
   "source": [
    "# Turnary operators\n",
    "a = 10\n",
    "b = 20\n",
    "m = \"10 is less than 20\" if (a>10) else  \"10 is greater than 20\"\n",
    "print(m)"
   ]
  },
  {
   "cell_type": "code",
   "execution_count": 104,
   "id": "1224fdd1",
   "metadata": {},
   "outputs": [
    {
     "name": "stdout",
     "output_type": "stream",
     "text": [
      "you can't vote\n"
     ]
    }
   ],
   "source": [
    "age = 20\n",
    "message = \"you can vote\" if (age>=18) else \"you can't vote\"\n",
    "print(message)"
   ]
  },
  {
   "cell_type": "code",
   "execution_count": 108,
   "id": "febc8364",
   "metadata": {},
   "outputs": [
    {
     "data": {
      "text/plain": [
       "4"
      ]
     },
     "execution_count": 108,
     "metadata": {},
     "output_type": "execute_result"
    }
   ],
   "source": [
    "# unary operator\n",
    "# bitwise not operator , ~1 -> 0 and ~0 ->1"
   ]
  },
  {
   "cell_type": "code",
   "execution_count": 109,
   "id": "c646c324",
   "metadata": {},
   "outputs": [
    {
     "data": {
      "text/plain": [
       "-12"
      ]
     },
     "execution_count": 109,
     "metadata": {},
     "output_type": "execute_result"
    }
   ],
   "source": [
    "~11"
   ]
  },
  {
   "cell_type": "code",
   "execution_count": 110,
   "id": "386b8741",
   "metadata": {},
   "outputs": [
    {
     "data": {
      "text/plain": [
       "-16"
      ]
     },
     "execution_count": 110,
     "metadata": {},
     "output_type": "execute_result"
    }
   ],
   "source": [
    "~15"
   ]
  },
  {
   "cell_type": "code",
   "execution_count": 111,
   "id": "d3d81dd2",
   "metadata": {},
   "outputs": [
    {
     "name": "stdout",
     "output_type": "stream",
     "text": [
      "-11\n"
     ]
    }
   ],
   "source": [
    "print(~10)"
   ]
  },
  {
   "cell_type": "code",
   "execution_count": 112,
   "id": "45a2cf34",
   "metadata": {},
   "outputs": [
    {
     "name": "stdout",
     "output_type": "stream",
     "text": [
      "30\n"
     ]
    }
   ],
   "source": [
    "# Binary operator\n",
    "a =10\n",
    "b =20\n",
    "print(a+b)"
   ]
  },
  {
   "cell_type": "code",
   "execution_count": null,
   "id": "f007f332",
   "metadata": {},
   "outputs": [],
   "source": []
  }
 ],
 "metadata": {
  "kernelspec": {
   "display_name": "Python 3 (ipykernel)",
   "language": "python",
   "name": "python3"
  },
  "language_info": {
   "codemirror_mode": {
    "name": "ipython",
    "version": 3
   },
   "file_extension": ".py",
   "mimetype": "text/x-python",
   "name": "python",
   "nbconvert_exporter": "python",
   "pygments_lexer": "ipython3",
   "version": "3.11.4"
  }
 },
 "nbformat": 4,
 "nbformat_minor": 5
}
