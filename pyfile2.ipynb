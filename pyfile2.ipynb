{
 "cells": [
  {
   "cell_type": "code",
   "execution_count": 1,
   "id": "c25bd0fd",
   "metadata": {},
   "outputs": [
    {
     "data": {
      "text/plain": [
       "'I am part of data science batch at ExcelR'"
      ]
     },
     "execution_count": 1,
     "metadata": {},
     "output_type": "execute_result"
    }
   ],
   "source": [
    "str=\"I am part of data analytics batch at ExcelR\"\n",
    "str.replace('analytics','science')"
   ]
  },
  {
   "cell_type": "code",
   "execution_count": 9,
   "id": "655535f3",
   "metadata": {},
   "outputs": [
    {
     "data": {
      "text/plain": [
       "'I Am pArt of dAtA AnAlytiCs BAtCh At ExCelR'"
      ]
     },
     "execution_count": 9,
     "metadata": {},
     "output_type": "execute_result"
    }
   ],
   "source": [
    "#str.translate('abc','ABC')\n",
    "change=str.maketrans('abc','ABC')\n",
    "str.translate(change)"
   ]
  },
  {
   "cell_type": "code",
   "execution_count": 11,
   "id": "46c5297a",
   "metadata": {},
   "outputs": [
    {
     "data": {
      "text/plain": [
       "'I am part of data science batch at excelR'"
      ]
     },
     "execution_count": 11,
     "metadata": {},
     "output_type": "execute_result"
    }
   ],
   "source": [
    "str=\"I-am_part,of.data~science_batch-at~excelR\"\n",
    "changes=str.maketrans('.,~!#$%^&*()_+-','               ')\n",
    "str.translate(changes)"
   ]
  },
  {
   "cell_type": "markdown",
   "id": "aba50d8a",
   "metadata": {},
   "source": [
    "# TUPLE"
   ]
  },
  {
   "cell_type": "code",
   "execution_count": 12,
   "id": "d1ee825d",
   "metadata": {},
   "outputs": [],
   "source": [
    "x=[]"
   ]
  },
  {
   "cell_type": "code",
   "execution_count": 14,
   "id": "d59c7216",
   "metadata": {},
   "outputs": [
    {
     "data": {
      "text/plain": [
       "list"
      ]
     },
     "execution_count": 14,
     "metadata": {},
     "output_type": "execute_result"
    }
   ],
   "source": [
    "type(x)"
   ]
  },
  {
   "cell_type": "code",
   "execution_count": 15,
   "id": "66ccc344",
   "metadata": {},
   "outputs": [],
   "source": [
    "x=()"
   ]
  },
  {
   "cell_type": "code",
   "execution_count": 16,
   "id": "78cb7dd1",
   "metadata": {},
   "outputs": [
    {
     "data": {
      "text/plain": [
       "tuple"
      ]
     },
     "execution_count": 16,
     "metadata": {},
     "output_type": "execute_result"
    }
   ],
   "source": [
    "type(x)"
   ]
  },
  {
   "cell_type": "code",
   "execution_count": 17,
   "id": "ed14a879",
   "metadata": {},
   "outputs": [],
   "source": [
    "y=tuple()"
   ]
  },
  {
   "cell_type": "code",
   "execution_count": 18,
   "id": "ed51cb29",
   "metadata": {},
   "outputs": [
    {
     "data": {
      "text/plain": [
       "tuple"
      ]
     },
     "execution_count": 18,
     "metadata": {},
     "output_type": "execute_result"
    }
   ],
   "source": [
    "type(y)"
   ]
  },
  {
   "cell_type": "code",
   "execution_count": 25,
   "id": "77beb452",
   "metadata": {},
   "outputs": [],
   "source": [
    "data=('Monday','AIML',100,'ExcelR')"
   ]
  },
  {
   "cell_type": "code",
   "execution_count": 20,
   "id": "f74a9f53",
   "metadata": {},
   "outputs": [
    {
     "data": {
      "text/plain": [
       "tuple"
      ]
     },
     "execution_count": 20,
     "metadata": {},
     "output_type": "execute_result"
    }
   ],
   "source": [
    "type(data)"
   ]
  },
  {
   "cell_type": "code",
   "execution_count": 26,
   "id": "4f2860e0",
   "metadata": {},
   "outputs": [
    {
     "data": {
      "text/plain": [
       "4"
      ]
     },
     "execution_count": 26,
     "metadata": {},
     "output_type": "execute_result"
    }
   ],
   "source": [
    "len(data)"
   ]
  },
  {
   "cell_type": "code",
   "execution_count": 27,
   "id": "cdec35b2",
   "metadata": {},
   "outputs": [],
   "source": [
    "nums=(5,6,19,93,78,35,6,8)"
   ]
  },
  {
   "cell_type": "code",
   "execution_count": 28,
   "id": "0de54b7f",
   "metadata": {},
   "outputs": [
    {
     "data": {
      "text/plain": [
       "5"
      ]
     },
     "execution_count": 28,
     "metadata": {},
     "output_type": "execute_result"
    }
   ],
   "source": [
    "min(nums)"
   ]
  },
  {
   "cell_type": "code",
   "execution_count": 29,
   "id": "63ad11fd",
   "metadata": {},
   "outputs": [
    {
     "data": {
      "text/plain": [
       "93"
      ]
     },
     "execution_count": 29,
     "metadata": {},
     "output_type": "execute_result"
    }
   ],
   "source": [
    "max(nums)"
   ]
  },
  {
   "cell_type": "code",
   "execution_count": 30,
   "id": "8a42a9ce",
   "metadata": {},
   "outputs": [
    {
     "data": {
      "text/plain": [
       "250"
      ]
     },
     "execution_count": 30,
     "metadata": {},
     "output_type": "execute_result"
    }
   ],
   "source": [
    "sum(nums)"
   ]
  },
  {
   "cell_type": "code",
   "execution_count": 32,
   "id": "4131e09d",
   "metadata": {},
   "outputs": [],
   "source": [
    "# append, extend, insert, pop, remove, sort, reverse\n",
    "\n",
    "# copy,clear,index\n"
   ]
  },
  {
   "cell_type": "code",
   "execution_count": 33,
   "id": "1d25e8bb",
   "metadata": {},
   "outputs": [
    {
     "name": "stdout",
     "output_type": "stream",
     "text": [
      "['__add__', '__class__', '__class_getitem__', '__contains__', '__delattr__', '__dir__', '__doc__', '__eq__', '__format__', '__ge__', '__getattribute__', '__getitem__', '__getnewargs__', '__gt__', '__hash__', '__init__', '__init_subclass__', '__iter__', '__le__', '__len__', '__lt__', '__mul__', '__ne__', '__new__', '__reduce__', '__reduce_ex__', '__repr__', '__rmul__', '__setattr__', '__sizeof__', '__str__', '__subclasshook__', 'count', 'index']\n"
     ]
    }
   ],
   "source": [
    "print(dir(nums))"
   ]
  },
  {
   "cell_type": "code",
   "execution_count": 39,
   "id": "30192de6",
   "metadata": {},
   "outputs": [],
   "source": [
    "mytuple=('python','R','SAS','Hadoop','Spark','Java','AIML','python','Java')"
   ]
  },
  {
   "cell_type": "code",
   "execution_count": 40,
   "id": "dce21f9e",
   "metadata": {},
   "outputs": [
    {
     "data": {
      "text/plain": [
       "'Java'"
      ]
     },
     "execution_count": 40,
     "metadata": {},
     "output_type": "execute_result"
    }
   ],
   "source": [
    "mytuple[-1]"
   ]
  },
  {
   "cell_type": "code",
   "execution_count": 41,
   "id": "03622011",
   "metadata": {},
   "outputs": [
    {
     "data": {
      "text/plain": [
       "9"
      ]
     },
     "execution_count": 41,
     "metadata": {},
     "output_type": "execute_result"
    }
   ],
   "source": [
    "len(mytuple)"
   ]
  },
  {
   "cell_type": "code",
   "execution_count": 42,
   "id": "ec3b4144",
   "metadata": {},
   "outputs": [
    {
     "data": {
      "text/plain": [
       "2"
      ]
     },
     "execution_count": 42,
     "metadata": {},
     "output_type": "execute_result"
    }
   ],
   "source": [
    "mytuple.count('python')"
   ]
  },
  {
   "cell_type": "code",
   "execution_count": 43,
   "id": "036a1c75",
   "metadata": {},
   "outputs": [
    {
     "data": {
      "text/plain": [
       "1"
      ]
     },
     "execution_count": 43,
     "metadata": {},
     "output_type": "execute_result"
    }
   ],
   "source": [
    "mytuple.count('SAS')"
   ]
  },
  {
   "cell_type": "code",
   "execution_count": 44,
   "id": "450da330",
   "metadata": {},
   "outputs": [
    {
     "data": {
      "text/plain": [
       "2"
      ]
     },
     "execution_count": 44,
     "metadata": {},
     "output_type": "execute_result"
    }
   ],
   "source": [
    "mytuple.index('SAS')"
   ]
  },
  {
   "cell_type": "code",
   "execution_count": 46,
   "id": "c4acf015",
   "metadata": {},
   "outputs": [
    {
     "data": {
      "text/plain": [
       "0"
      ]
     },
     "execution_count": 46,
     "metadata": {},
     "output_type": "execute_result"
    }
   ],
   "source": [
    "mytuple.index('python')"
   ]
  },
  {
   "cell_type": "code",
   "execution_count": 49,
   "id": "48e3696b",
   "metadata": {},
   "outputs": [],
   "source": [
    "# List is Mutable                           Tuple is Immutable\n",
    "# []                                        ()\n",
    "# List take more memory                     Tuple take less memory\n",
    "# List takes more time to process           Tuple takes less time to process"
   ]
  },
  {
   "cell_type": "code",
   "execution_count": 53,
   "id": "79ebb21a",
   "metadata": {},
   "outputs": [
    {
     "name": "stdout",
     "output_type": "stream",
     "text": [
      "List Size: 152\n",
      "Tuple Size: 120\n"
     ]
    }
   ],
   "source": [
    "import sys\n",
    "\n",
    "print('List Size:', sys.getsizeof([1,2,3,4,5,6,7,8,9,10]))\n",
    "print('Tuple Size:', sys.getsizeof((1,2,3,4,5,6,7,8,9,10)))"
   ]
  },
  {
   "cell_type": "code",
   "execution_count": 54,
   "id": "dc65aed5",
   "metadata": {},
   "outputs": [
    {
     "name": "stdout",
     "output_type": "stream",
     "text": [
      "List takes: 108.02640000019892\n",
      "Tuple takes: 15.432500000315486\n"
     ]
    }
   ],
   "source": [
    "import timeit\n",
    "\n",
    "print('List takes:', timeit.timeit(stmt=\"[1,2,3,4,5,6,7,8,9,10]\",number=1000000)*1000)\n",
    "print('Tuple takes:', timeit.timeit(stmt=\"(1,2,3,4,5,6,7,8,9,10)\",number=1000000)*1000)"
   ]
  },
  {
   "cell_type": "code",
   "execution_count": null,
   "id": "1ccc80c7",
   "metadata": {},
   "outputs": [],
   "source": [
    "HPC => High Performance Computers"
   ]
  },
  {
   "cell_type": "code",
   "execution_count": 55,
   "id": "f2e438b1",
   "metadata": {},
   "outputs": [],
   "source": [
    "x=[1,2,3,4,5,6,7,8,9,10]"
   ]
  },
  {
   "cell_type": "code",
   "execution_count": 56,
   "id": "77c24210",
   "metadata": {},
   "outputs": [
    {
     "data": {
      "text/plain": [
       "list"
      ]
     },
     "execution_count": 56,
     "metadata": {},
     "output_type": "execute_result"
    }
   ],
   "source": [
    "type(x)"
   ]
  },
  {
   "cell_type": "code",
   "execution_count": 57,
   "id": "33253701",
   "metadata": {},
   "outputs": [],
   "source": [
    "y=tuple(x)"
   ]
  },
  {
   "cell_type": "code",
   "execution_count": 58,
   "id": "fc199893",
   "metadata": {},
   "outputs": [
    {
     "data": {
      "text/plain": [
       "tuple"
      ]
     },
     "execution_count": 58,
     "metadata": {},
     "output_type": "execute_result"
    }
   ],
   "source": [
    "type(y)"
   ]
  },
  {
   "cell_type": "code",
   "execution_count": 59,
   "id": "6e26ec3c",
   "metadata": {},
   "outputs": [
    {
     "data": {
      "text/plain": [
       "(1, 2, 3, 4, 5, 6, 7, 8, 9, 10)"
      ]
     },
     "execution_count": 59,
     "metadata": {},
     "output_type": "execute_result"
    }
   ],
   "source": [
    "y"
   ]
  },
  {
   "cell_type": "code",
   "execution_count": 60,
   "id": "8db86968",
   "metadata": {},
   "outputs": [
    {
     "data": {
      "text/plain": [
       "[1, 2, 3, 4, 5, 6, 7, 8, 9, 10]"
      ]
     },
     "execution_count": 60,
     "metadata": {},
     "output_type": "execute_result"
    }
   ],
   "source": [
    "x"
   ]
  },
  {
   "cell_type": "code",
   "execution_count": 75,
   "id": "2da03c2b",
   "metadata": {},
   "outputs": [],
   "source": [
    "x=(10)\n",
    "y=[10]"
   ]
  },
  {
   "cell_type": "code",
   "execution_count": 72,
   "id": "c775714c",
   "metadata": {},
   "outputs": [
    {
     "data": {
      "text/plain": [
       "list"
      ]
     },
     "execution_count": 72,
     "metadata": {},
     "output_type": "execute_result"
    }
   ],
   "source": [
    "type(y)"
   ]
  },
  {
   "cell_type": "code",
   "execution_count": 76,
   "id": "de61fa48",
   "metadata": {},
   "outputs": [
    {
     "data": {
      "text/plain": [
       "int"
      ]
     },
     "execution_count": 76,
     "metadata": {},
     "output_type": "execute_result"
    }
   ],
   "source": [
    "type(x)"
   ]
  },
  {
   "cell_type": "code",
   "execution_count": 77,
   "id": "aeea53a7",
   "metadata": {},
   "outputs": [],
   "source": [
    "city=('pune')"
   ]
  },
  {
   "cell_type": "code",
   "execution_count": 78,
   "id": "62eb7073",
   "metadata": {},
   "outputs": [
    {
     "data": {
      "text/plain": [
       "str"
      ]
     },
     "execution_count": 78,
     "metadata": {},
     "output_type": "execute_result"
    }
   ],
   "source": [
    "type(city)"
   ]
  },
  {
   "cell_type": "code",
   "execution_count": 79,
   "id": "71805a52",
   "metadata": {},
   "outputs": [],
   "source": [
    "data=(10,20)"
   ]
  },
  {
   "cell_type": "code",
   "execution_count": 80,
   "id": "aad8d1d1",
   "metadata": {},
   "outputs": [
    {
     "data": {
      "text/plain": [
       "tuple"
      ]
     },
     "execution_count": 80,
     "metadata": {},
     "output_type": "execute_result"
    }
   ],
   "source": [
    "type(data)"
   ]
  },
  {
   "cell_type": "code",
   "execution_count": 81,
   "id": "00d1ef28",
   "metadata": {},
   "outputs": [],
   "source": [
    "location=('Bangalore','Mumbai')"
   ]
  },
  {
   "cell_type": "code",
   "execution_count": 82,
   "id": "fb95d5e2",
   "metadata": {},
   "outputs": [
    {
     "data": {
      "text/plain": [
       "tuple"
      ]
     },
     "execution_count": 82,
     "metadata": {},
     "output_type": "execute_result"
    }
   ],
   "source": [
    "type(location)"
   ]
  },
  {
   "cell_type": "code",
   "execution_count": 88,
   "id": "effb712b",
   "metadata": {},
   "outputs": [],
   "source": [
    "x=(10,)"
   ]
  },
  {
   "cell_type": "code",
   "execution_count": 89,
   "id": "ce1cdaab",
   "metadata": {},
   "outputs": [
    {
     "data": {
      "text/plain": [
       "tuple"
      ]
     },
     "execution_count": 89,
     "metadata": {},
     "output_type": "execute_result"
    }
   ],
   "source": [
    "type(x)"
   ]
  },
  {
   "cell_type": "code",
   "execution_count": 92,
   "id": "ad700b58",
   "metadata": {},
   "outputs": [],
   "source": [
    "c=('Chennai',)"
   ]
  },
  {
   "cell_type": "code",
   "execution_count": 93,
   "id": "07975ec7",
   "metadata": {},
   "outputs": [
    {
     "data": {
      "text/plain": [
       "tuple"
      ]
     },
     "execution_count": 93,
     "metadata": {},
     "output_type": "execute_result"
    }
   ],
   "source": [
    "type(c)"
   ]
  },
  {
   "cell_type": "markdown",
   "id": "1f0059a7",
   "metadata": {},
   "source": [
    "# DICTIONARY"
   ]
  },
  {
   "cell_type": "code",
   "execution_count": 94,
   "id": "f22bd37f",
   "metadata": {},
   "outputs": [],
   "source": [
    "# key value pairs of element\n",
    "# it is unordered array\n",
    "# dictionary|hash|hash map|associative array"
   ]
  },
  {
   "cell_type": "code",
   "execution_count": 95,
   "id": "1b5079ad",
   "metadata": {},
   "outputs": [],
   "source": [
    "mydata={}"
   ]
  },
  {
   "cell_type": "code",
   "execution_count": 96,
   "id": "f4f038ae",
   "metadata": {},
   "outputs": [
    {
     "data": {
      "text/plain": [
       "dict"
      ]
     },
     "execution_count": 96,
     "metadata": {},
     "output_type": "execute_result"
    }
   ],
   "source": [
    "type(mydata)"
   ]
  },
  {
   "cell_type": "code",
   "execution_count": 97,
   "id": "776611a1",
   "metadata": {},
   "outputs": [],
   "source": [
    "mydata={'today':'Monday','age':30,'tech':'python','company':'ExcelR'}"
   ]
  },
  {
   "cell_type": "code",
   "execution_count": 98,
   "id": "16b36265",
   "metadata": {},
   "outputs": [
    {
     "data": {
      "text/plain": [
       "30"
      ]
     },
     "execution_count": 98,
     "metadata": {},
     "output_type": "execute_result"
    }
   ],
   "source": [
    "mydata['age']"
   ]
  },
  {
   "cell_type": "code",
   "execution_count": 99,
   "id": "3610afdd",
   "metadata": {},
   "outputs": [
    {
     "data": {
      "text/plain": [
       "'python'"
      ]
     },
     "execution_count": 99,
     "metadata": {},
     "output_type": "execute_result"
    }
   ],
   "source": [
    "mydata['tech']"
   ]
  },
  {
   "cell_type": "code",
   "execution_count": 100,
   "id": "c44c4dea",
   "metadata": {},
   "outputs": [
    {
     "data": {
      "text/plain": [
       "'Monday'"
      ]
     },
     "execution_count": 100,
     "metadata": {},
     "output_type": "execute_result"
    }
   ],
   "source": [
    "mydata['today']"
   ]
  },
  {
   "cell_type": "code",
   "execution_count": 108,
   "id": "76d70b50",
   "metadata": {},
   "outputs": [
    {
     "data": {
      "text/plain": [
       "'ExcelR'"
      ]
     },
     "execution_count": 108,
     "metadata": {},
     "output_type": "execute_result"
    }
   ],
   "source": [
    "mydata['company']"
   ]
  },
  {
   "cell_type": "code",
   "execution_count": 110,
   "id": "6aa7a662",
   "metadata": {},
   "outputs": [
    {
     "ename": "KeyError",
     "evalue": "'name'",
     "output_type": "error",
     "traceback": [
      "\u001b[1;31m---------------------------------------------------------------------------\u001b[0m",
      "\u001b[1;31mKeyError\u001b[0m                                  Traceback (most recent call last)",
      "\u001b[1;32m~\\AppData\\Local\\Temp\\ipykernel_9804\\480500342.py\u001b[0m in \u001b[0;36m<module>\u001b[1;34m\u001b[0m\n\u001b[1;32m----> 1\u001b[1;33m \u001b[0mmydata\u001b[0m\u001b[1;33m[\u001b[0m\u001b[1;34m'name'\u001b[0m\u001b[1;33m]\u001b[0m\u001b[1;33m\u001b[0m\u001b[1;33m\u001b[0m\u001b[0m\n\u001b[0m",
      "\u001b[1;31mKeyError\u001b[0m: 'name'"
     ]
    }
   ],
   "source": [
    "mydata['name']"
   ]
  },
  {
   "cell_type": "code",
   "execution_count": 102,
   "id": "e666e381",
   "metadata": {},
   "outputs": [],
   "source": [
    "# get and setdefault"
   ]
  },
  {
   "cell_type": "code",
   "execution_count": 103,
   "id": "956a50e6",
   "metadata": {},
   "outputs": [
    {
     "data": {
      "text/plain": [
       "30"
      ]
     },
     "execution_count": 103,
     "metadata": {},
     "output_type": "execute_result"
    }
   ],
   "source": [
    "mydata.get('age')"
   ]
  },
  {
   "cell_type": "code",
   "execution_count": 104,
   "id": "7a0ebf78",
   "metadata": {},
   "outputs": [
    {
     "data": {
      "text/plain": [
       "'ExcelR'"
      ]
     },
     "execution_count": 104,
     "metadata": {},
     "output_type": "execute_result"
    }
   ],
   "source": [
    "mydata.get('company')"
   ]
  },
  {
   "cell_type": "code",
   "execution_count": 106,
   "id": "a7ecd09e",
   "metadata": {},
   "outputs": [
    {
     "name": "stdout",
     "output_type": "stream",
     "text": [
      "None\n"
     ]
    }
   ],
   "source": [
    "print(mydata.get('name'))"
   ]
  },
  {
   "cell_type": "code",
   "execution_count": 126,
   "id": "206a5aeb",
   "metadata": {},
   "outputs": [
    {
     "ename": "SyntaxError",
     "evalue": "invalid syntax (1859234954.py, line 1)",
     "output_type": "error",
     "traceback": [
      "\u001b[1;36m  File \u001b[1;32m\"C:\\Users\\sabina P\\AppData\\Local\\Temp\\ipykernel_9804\\1859234954.py\"\u001b[1;36m, line \u001b[1;32m1\u001b[0m\n\u001b[1;33m    mydata.get(,'name''sabina')\u001b[0m\n\u001b[1;37m               ^\u001b[0m\n\u001b[1;31mSyntaxError\u001b[0m\u001b[1;31m:\u001b[0m invalid syntax\n"
     ]
    }
   ],
   "source": [
    "mydata.get('name','sabina')"
   ]
  },
  {
   "cell_type": "code",
   "execution_count": 127,
   "id": "4b7b3e9c",
   "metadata": {},
   "outputs": [
    {
     "data": {
      "text/plain": [
       "{'today': 'Monday',\n",
       " 'age': 30,\n",
       " 'tech': 'python',\n",
       " 'company': 'ExcelR',\n",
       " 'name': 'sabina'}"
      ]
     },
     "execution_count": 127,
     "metadata": {},
     "output_type": "execute_result"
    }
   ],
   "source": [
    "mydata"
   ]
  },
  {
   "cell_type": "code",
   "execution_count": 119,
   "id": "701cb6fe",
   "metadata": {},
   "outputs": [
    {
     "data": {
      "text/plain": [
       "30"
      ]
     },
     "execution_count": 119,
     "metadata": {},
     "output_type": "execute_result"
    }
   ],
   "source": [
    "mydata.setdefault('age','sabina')"
   ]
  },
  {
   "cell_type": "code",
   "execution_count": 116,
   "id": "2ee73350",
   "metadata": {},
   "outputs": [
    {
     "data": {
      "text/plain": [
       "{'today': 'Monday', 'age': 30, 'tech': 'python', 'company': 'ExcelR'}"
      ]
     },
     "execution_count": 116,
     "metadata": {},
     "output_type": "execute_result"
    }
   ],
   "source": [
    "mydata"
   ]
  },
  {
   "cell_type": "code",
   "execution_count": 120,
   "id": "b82157c1",
   "metadata": {},
   "outputs": [
    {
     "data": {
      "text/plain": [
       "'sabina'"
      ]
     },
     "execution_count": 120,
     "metadata": {},
     "output_type": "execute_result"
    }
   ],
   "source": [
    "mydata.setdefault('name', 'sabina')"
   ]
  },
  {
   "cell_type": "code",
   "execution_count": 128,
   "id": "432040b1",
   "metadata": {},
   "outputs": [
    {
     "data": {
      "text/plain": [
       "{'today': 'Monday',\n",
       " 'age': 30,\n",
       " 'tech': 'python',\n",
       " 'company': 'ExcelR',\n",
       " 'name': 'sabina'}"
      ]
     },
     "execution_count": 128,
     "metadata": {},
     "output_type": "execute_result"
    }
   ],
   "source": [
    "mydata"
   ]
  },
  {
   "cell_type": "code",
   "execution_count": 132,
   "id": "3e768ddb",
   "metadata": {},
   "outputs": [
    {
     "data": {
      "text/plain": [
       "30"
      ]
     },
     "execution_count": 132,
     "metadata": {},
     "output_type": "execute_result"
    }
   ],
   "source": [
    "mydata.setdefault('age','name')"
   ]
  },
  {
   "cell_type": "code",
   "execution_count": 134,
   "id": "136a710c",
   "metadata": {},
   "outputs": [],
   "source": [
    "mydata['location']='chennai'"
   ]
  },
  {
   "cell_type": "code",
   "execution_count": 135,
   "id": "5498ef06",
   "metadata": {},
   "outputs": [
    {
     "name": "stdout",
     "output_type": "stream",
     "text": [
      "{'today': 'Monday', 'age': 30, 'tech': 'python', 'company': 'ExcelR', 'name': 'sabina', 'location': 'chennai'}\n"
     ]
    }
   ],
   "source": [
    "print(mydata)"
   ]
  },
  {
   "cell_type": "code",
   "execution_count": 136,
   "id": "769782cb",
   "metadata": {},
   "outputs": [],
   "source": [
    "mydata['country']='India'"
   ]
  },
  {
   "cell_type": "code",
   "execution_count": 137,
   "id": "f3103a65",
   "metadata": {},
   "outputs": [
    {
     "name": "stdout",
     "output_type": "stream",
     "text": [
      "{'today': 'Monday', 'age': 30, 'tech': 'python', 'company': 'ExcelR', 'name': 'sabina', 'location': 'chennai', 'country': 'India'}\n"
     ]
    }
   ],
   "source": [
    "print(mydata)"
   ]
  },
  {
   "cell_type": "code",
   "execution_count": 138,
   "id": "ea078d8b",
   "metadata": {},
   "outputs": [],
   "source": [
    "mydata['today']='Sunday'"
   ]
  },
  {
   "cell_type": "code",
   "execution_count": 140,
   "id": "882e8d46",
   "metadata": {},
   "outputs": [
    {
     "name": "stdout",
     "output_type": "stream",
     "text": [
      "{'today': 'Sunday', 'age': 30, 'tech': 'python', 'company': 'ExcelR', 'name': 'sabina', 'location': 'chennai', 'country': 'India'}\n"
     ]
    }
   ],
   "source": [
    "print(mydata)"
   ]
  },
  {
   "cell_type": "code",
   "execution_count": 141,
   "id": "a6f5467d",
   "metadata": {},
   "outputs": [],
   "source": [
    "mydata.update({'salary':5000,'exp':10,'manager':'Abdul','location':'Bangalore'})"
   ]
  },
  {
   "cell_type": "code",
   "execution_count": 142,
   "id": "229bda05",
   "metadata": {},
   "outputs": [
    {
     "name": "stdout",
     "output_type": "stream",
     "text": [
      "{'today': 'Sunday', 'age': 30, 'tech': 'python', 'company': 'ExcelR', 'name': 'sabina', 'location': 'Bangalore', 'country': 'India', 'salary': 5000, 'exp': 10, 'manager': 'Abdul'}\n"
     ]
    }
   ],
   "source": [
    "print(mydata)"
   ]
  },
  {
   "cell_type": "code",
   "execution_count": 143,
   "id": "d4914b60",
   "metadata": {},
   "outputs": [
    {
     "data": {
      "text/plain": [
       "10"
      ]
     },
     "execution_count": 143,
     "metadata": {},
     "output_type": "execute_result"
    }
   ],
   "source": [
    "mydata.pop('exp')"
   ]
  },
  {
   "cell_type": "code",
   "execution_count": 145,
   "id": "40e5790f",
   "metadata": {},
   "outputs": [
    {
     "data": {
      "text/plain": [
       "('manager', 'Abdul')"
      ]
     },
     "execution_count": 145,
     "metadata": {},
     "output_type": "execute_result"
    }
   ],
   "source": [
    "mydata.popitem()"
   ]
  },
  {
   "cell_type": "code",
   "execution_count": 146,
   "id": "c61bf29a",
   "metadata": {},
   "outputs": [],
   "source": [
    "del mydata['today']"
   ]
  },
  {
   "cell_type": "code",
   "execution_count": 147,
   "id": "d7b8d91e",
   "metadata": {},
   "outputs": [
    {
     "name": "stdout",
     "output_type": "stream",
     "text": [
      "{'age': 30, 'tech': 'python', 'company': 'ExcelR', 'name': 'sabina', 'location': 'Bangalore', 'country': 'India', 'salary': 5000}\n"
     ]
    }
   ],
   "source": [
    "print(mydata)"
   ]
  },
  {
   "cell_type": "code",
   "execution_count": 148,
   "id": "840c3edd",
   "metadata": {},
   "outputs": [
    {
     "data": {
      "text/plain": [
       "5000"
      ]
     },
     "execution_count": 148,
     "metadata": {},
     "output_type": "execute_result"
    }
   ],
   "source": [
    "mydata.pop('salary')"
   ]
  },
  {
   "cell_type": "code",
   "execution_count": 149,
   "id": "c0b3647c",
   "metadata": {},
   "outputs": [
    {
     "name": "stdout",
     "output_type": "stream",
     "text": [
      "{'age': 30, 'tech': 'python', 'company': 'ExcelR', 'name': 'sabina', 'location': 'Bangalore', 'country': 'India'}\n"
     ]
    }
   ],
   "source": [
    "print(mydata)"
   ]
  },
  {
   "cell_type": "code",
   "execution_count": 154,
   "id": "9a5bf284",
   "metadata": {},
   "outputs": [],
   "source": [
    "mydata.update({'tech':['Java','c','R','mysql','oops']})"
   ]
  },
  {
   "cell_type": "code",
   "execution_count": 155,
   "id": "69aff006",
   "metadata": {},
   "outputs": [
    {
     "name": "stdout",
     "output_type": "stream",
     "text": [
      "{'age': 30, 'tech': ['Java', 'c', 'R', 'mysql', 'oops'], 'company': 'ExcelR', 'name': 'sabina', 'location': 'Bangalore', 'country': 'India'}\n"
     ]
    }
   ],
   "source": [
    "print(mydata)"
   ]
  },
  {
   "cell_type": "code",
   "execution_count": 156,
   "id": "a22d5b62",
   "metadata": {},
   "outputs": [
    {
     "data": {
      "text/plain": [
       "'Java'"
      ]
     },
     "execution_count": 156,
     "metadata": {},
     "output_type": "execute_result"
    }
   ],
   "source": [
    "mydata['tech'].pop(0)"
   ]
  },
  {
   "cell_type": "code",
   "execution_count": 158,
   "id": "a4e30350",
   "metadata": {},
   "outputs": [
    {
     "data": {
      "text/plain": [
       "['c', 'R', 'mysql', 'oops']"
      ]
     },
     "execution_count": 158,
     "metadata": {},
     "output_type": "execute_result"
    }
   ],
   "source": [
    "mydata.pop('tech')"
   ]
  },
  {
   "cell_type": "code",
   "execution_count": 160,
   "id": "5cae6656",
   "metadata": {},
   "outputs": [
    {
     "name": "stdout",
     "output_type": "stream",
     "text": [
      "{'age': 30, 'company': 'ExcelR', 'name': 'sabina', 'location': 'Bangalore', 'country': 'India'}\n"
     ]
    }
   ],
   "source": [
    "print(mydata)"
   ]
  },
  {
   "cell_type": "code",
   "execution_count": 161,
   "id": "f39e6c78",
   "metadata": {},
   "outputs": [],
   "source": [
    "# keys, values, items"
   ]
  },
  {
   "cell_type": "code",
   "execution_count": 162,
   "id": "8a6e28a9",
   "metadata": {},
   "outputs": [
    {
     "data": {
      "text/plain": [
       "{'age': 30,\n",
       " 'company': 'ExcelR',\n",
       " 'name': 'sabina',\n",
       " 'location': 'Bangalore',\n",
       " 'country': 'India'}"
      ]
     },
     "execution_count": 162,
     "metadata": {},
     "output_type": "execute_result"
    }
   ],
   "source": [
    "mydata"
   ]
  },
  {
   "cell_type": "code",
   "execution_count": 163,
   "id": "a1549e4c",
   "metadata": {},
   "outputs": [
    {
     "data": {
      "text/plain": [
       "dict_keys(['age', 'company', 'name', 'location', 'country'])"
      ]
     },
     "execution_count": 163,
     "metadata": {},
     "output_type": "execute_result"
    }
   ],
   "source": [
    "mydata.keys()"
   ]
  },
  {
   "cell_type": "code",
   "execution_count": 164,
   "id": "240c09e9",
   "metadata": {},
   "outputs": [
    {
     "data": {
      "text/plain": [
       "dict_values([30, 'ExcelR', 'sabina', 'Bangalore', 'India'])"
      ]
     },
     "execution_count": 164,
     "metadata": {},
     "output_type": "execute_result"
    }
   ],
   "source": [
    "mydata.values()"
   ]
  },
  {
   "cell_type": "code",
   "execution_count": 170,
   "id": "aeece4a3",
   "metadata": {},
   "outputs": [
    {
     "data": {
      "text/plain": [
       "dict_items([('age', 30), ('company', 'ExcelR'), ('name', 'sabina'), ('location', 'Bangalore'), ('country', 'India')])"
      ]
     },
     "execution_count": 170,
     "metadata": {},
     "output_type": "execute_result"
    }
   ],
   "source": [
    "mydata.items()"
   ]
  },
  {
   "cell_type": "code",
   "execution_count": 189,
   "id": "885e72ac",
   "metadata": {},
   "outputs": [
    {
     "ename": "TypeError",
     "evalue": "'str' object is not callable",
     "output_type": "error",
     "traceback": [
      "\u001b[1;31m---------------------------------------------------------------------------\u001b[0m",
      "\u001b[1;31mTypeError\u001b[0m                                 Traceback (most recent call last)",
      "\u001b[1;32m~\\AppData\\Local\\Temp\\ipykernel_9804\\3909634829.py\u001b[0m in \u001b[0;36m<module>\u001b[1;34m\u001b[0m\n\u001b[0;32m      1\u001b[0m \u001b[1;32mfor\u001b[0m \u001b[0mk\u001b[0m \u001b[1;32min\u001b[0m \u001b[0mmydata\u001b[0m\u001b[1;33m.\u001b[0m\u001b[0mkeys\u001b[0m\u001b[1;33m(\u001b[0m\u001b[1;33m)\u001b[0m\u001b[1;33m:\u001b[0m\u001b[1;33m\u001b[0m\u001b[1;33m\u001b[0m\u001b[0m\n\u001b[1;32m----> 2\u001b[1;33m         \u001b[0mprint\u001b[0m\u001b[1;33m(\u001b[0m\u001b[0mk\u001b[0m \u001b[1;33m+\u001b[0m\u001b[1;34m\" ===> \"\u001b[0m\u001b[1;33m+\u001b[0m \u001b[0mstr\u001b[0m\u001b[1;33m(\u001b[0m\u001b[0mmydata\u001b[0m\u001b[1;33m[\u001b[0m\u001b[0mk\u001b[0m\u001b[1;33m]\u001b[0m\u001b[1;33m)\u001b[0m\u001b[1;33m)\u001b[0m\u001b[1;33m\u001b[0m\u001b[1;33m\u001b[0m\u001b[0m\n\u001b[0m",
      "\u001b[1;31mTypeError\u001b[0m: 'str' object is not callable"
     ]
    }
   ],
   "source": [
    "for k in mydata.keys():\n",
    "        print(k +\" ===> \"+ str(mydata[k]))"
   ]
  },
  {
   "cell_type": "code",
   "execution_count": 191,
   "id": "b5890228",
   "metadata": {},
   "outputs": [],
   "source": [
    "mydata['age']=30"
   ]
  },
  {
   "cell_type": "code",
   "execution_count": 194,
   "id": "791f2762",
   "metadata": {},
   "outputs": [
    {
     "name": "stdout",
     "output_type": "stream",
     "text": [
      "30\n",
      "ExcelR\n",
      "sabina\n",
      "Bangalore\n",
      "India\n"
     ]
    }
   ],
   "source": [
    "for k in mydata.keys():\n",
    "    print(mydata[k])"
   ]
  },
  {
   "cell_type": "code",
   "execution_count": 195,
   "id": "a4cc1e32",
   "metadata": {},
   "outputs": [
    {
     "ename": "KeyError",
     "evalue": "30",
     "output_type": "error",
     "traceback": [
      "\u001b[1;31m---------------------------------------------------------------------------\u001b[0m",
      "\u001b[1;31mKeyError\u001b[0m                                  Traceback (most recent call last)",
      "\u001b[1;32m~\\AppData\\Local\\Temp\\ipykernel_9804\\3345508408.py\u001b[0m in \u001b[0;36m<module>\u001b[1;34m\u001b[0m\n\u001b[0;32m      1\u001b[0m \u001b[1;32mfor\u001b[0m \u001b[0mv\u001b[0m \u001b[1;32min\u001b[0m \u001b[0mmydata\u001b[0m\u001b[1;33m.\u001b[0m\u001b[0mvalues\u001b[0m\u001b[1;33m(\u001b[0m\u001b[1;33m)\u001b[0m\u001b[1;33m:\u001b[0m\u001b[1;33m\u001b[0m\u001b[1;33m\u001b[0m\u001b[0m\n\u001b[1;32m----> 2\u001b[1;33m     \u001b[0mprint\u001b[0m\u001b[1;33m(\u001b[0m\u001b[0mmydata\u001b[0m\u001b[1;33m[\u001b[0m\u001b[0mv\u001b[0m\u001b[1;33m]\u001b[0m\u001b[1;33m)\u001b[0m\u001b[1;33m\u001b[0m\u001b[1;33m\u001b[0m\u001b[0m\n\u001b[0m",
      "\u001b[1;31mKeyError\u001b[0m: 30"
     ]
    }
   ],
   "source": [
    "for v in mydata.values():\n",
    "    print(mydata[v])"
   ]
  },
  {
   "cell_type": "code",
   "execution_count": 196,
   "id": "67e97320",
   "metadata": {},
   "outputs": [
    {
     "data": {
      "text/plain": [
       "dict_items([('age', 30), ('company', 'ExcelR'), ('name', 'sabina'), ('location', 'Bangalore'), ('country', 'India')])"
      ]
     },
     "execution_count": 196,
     "metadata": {},
     "output_type": "execute_result"
    }
   ],
   "source": [
    "mydata.items()"
   ]
  },
  {
   "cell_type": "code",
   "execution_count": 197,
   "id": "94753a20",
   "metadata": {},
   "outputs": [
    {
     "name": "stdout",
     "output_type": "stream",
     "text": [
      "age 30\n",
      "company ExcelR\n",
      "name sabina\n",
      "location Bangalore\n",
      "country India\n"
     ]
    }
   ],
   "source": [
    "for x, y in mydata.items():\n",
    "    print(x,y)"
   ]
  },
  {
   "cell_type": "code",
   "execution_count": 198,
   "id": "86810e13",
   "metadata": {},
   "outputs": [
    {
     "name": "stdout",
     "output_type": "stream",
     "text": [
      "['__class__', '__class_getitem__', '__contains__', '__delattr__', '__delitem__', '__dir__', '__doc__', '__eq__', '__format__', '__ge__', '__getattribute__', '__getitem__', '__gt__', '__hash__', '__init__', '__init_subclass__', '__ior__', '__iter__', '__le__', '__len__', '__lt__', '__ne__', '__new__', '__or__', '__reduce__', '__reduce_ex__', '__repr__', '__reversed__', '__ror__', '__setattr__', '__setitem__', '__sizeof__', '__str__', '__subclasshook__', 'clear', 'copy', 'fromkeys', 'get', 'items', 'keys', 'pop', 'popitem', 'setdefault', 'update', 'values']\n"
     ]
    }
   ],
   "source": [
    "print(dir(mydata))"
   ]
  },
  {
   "cell_type": "code",
   "execution_count": 199,
   "id": "b1a6e314",
   "metadata": {},
   "outputs": [],
   "source": [
    "empdata={'fname','lname','age','degree','exp','gender','address'}"
   ]
  },
  {
   "cell_type": "code",
   "execution_count": 200,
   "id": "688430f4",
   "metadata": {},
   "outputs": [],
   "source": [
    "emp_info=dict.fromkeys(empdata,'ExcelR')"
   ]
  },
  {
   "cell_type": "code",
   "execution_count": 201,
   "id": "c6a20b2b",
   "metadata": {},
   "outputs": [
    {
     "data": {
      "text/plain": [
       "{'gender': 'ExcelR',\n",
       " 'address': 'ExcelR',\n",
       " 'exp': 'ExcelR',\n",
       " 'degree': 'ExcelR',\n",
       " 'lname': 'ExcelR',\n",
       " 'fname': 'ExcelR',\n",
       " 'age': 'ExcelR'}"
      ]
     },
     "execution_count": 201,
     "metadata": {},
     "output_type": "execute_result"
    }
   ],
   "source": [
    "emp_info"
   ]
  },
  {
   "cell_type": "code",
   "execution_count": 202,
   "id": "56aa7ab6",
   "metadata": {},
   "outputs": [],
   "source": [
    "sample_dict={\n",
    "    'name':'sabina N',\n",
    "    'age':30,\n",
    "    'exp':{\n",
    "        'infosys':['python','perl','java'],\n",
    "        'paypal':['python','AIML','AWS'],\n",
    "        'walmart':['AIML',['AWS','GCP']],\n",
    "        'shell':['Bigdata','snowflakes'],\n",
    "        'amazon':['Bigdata','AWS']\n",
    "    }\n",
    "}"
   ]
  },
  {
   "cell_type": "code",
   "execution_count": 203,
   "id": "b6c8f7f7",
   "metadata": {},
   "outputs": [
    {
     "data": {
      "text/plain": [
       "'GCP'"
      ]
     },
     "execution_count": 203,
     "metadata": {},
     "output_type": "execute_result"
    }
   ],
   "source": [
    "sample_dict.get('exp').get('walmart')[1][-1]"
   ]
  },
  {
   "cell_type": "code",
   "execution_count": 204,
   "id": "a1dfa82e",
   "metadata": {},
   "outputs": [],
   "source": [
    "myset=set()"
   ]
  },
  {
   "cell_type": "code",
   "execution_count": 205,
   "id": "ba0ecb74",
   "metadata": {},
   "outputs": [
    {
     "data": {
      "text/plain": [
       "set"
      ]
     },
     "execution_count": 205,
     "metadata": {},
     "output_type": "execute_result"
    }
   ],
   "source": [
    "type(myset)"
   ]
  },
  {
   "cell_type": "code",
   "execution_count": 206,
   "id": "8d5eacba",
   "metadata": {},
   "outputs": [],
   "source": [
    "myset={1,2,3,4,5,6,7,8,9,10,6,8,3,4,5,7,1,1,1}"
   ]
  },
  {
   "cell_type": "code",
   "execution_count": 207,
   "id": "8074d55f",
   "metadata": {},
   "outputs": [
    {
     "data": {
      "text/plain": [
       "{1, 2, 3, 4, 5, 6, 7, 8, 9, 10}"
      ]
     },
     "execution_count": 207,
     "metadata": {},
     "output_type": "execute_result"
    }
   ],
   "source": [
    "myset"
   ]
  },
  {
   "cell_type": "code",
   "execution_count": 208,
   "id": "bfc213c3",
   "metadata": {},
   "outputs": [],
   "source": [
    "myset.add(11)"
   ]
  },
  {
   "cell_type": "code",
   "execution_count": 209,
   "id": "9d2990c0",
   "metadata": {},
   "outputs": [
    {
     "data": {
      "text/plain": [
       "{1, 2, 3, 4, 5, 6, 7, 8, 9, 10, 11}"
      ]
     },
     "execution_count": 209,
     "metadata": {},
     "output_type": "execute_result"
    }
   ],
   "source": [
    "myset"
   ]
  },
  {
   "cell_type": "code",
   "execution_count": 210,
   "id": "59536a9a",
   "metadata": {},
   "outputs": [],
   "source": [
    "myset.add(15)"
   ]
  },
  {
   "cell_type": "code",
   "execution_count": 211,
   "id": "e6a4756b",
   "metadata": {},
   "outputs": [
    {
     "data": {
      "text/plain": [
       "{1, 2, 3, 4, 5, 6, 7, 8, 9, 10, 11, 15}"
      ]
     },
     "execution_count": 211,
     "metadata": {},
     "output_type": "execute_result"
    }
   ],
   "source": [
    "myset"
   ]
  },
  {
   "cell_type": "code",
   "execution_count": 212,
   "id": "3aa5c53c",
   "metadata": {},
   "outputs": [],
   "source": [
    "myset.add(12)"
   ]
  },
  {
   "cell_type": "code",
   "execution_count": 213,
   "id": "07353644",
   "metadata": {},
   "outputs": [
    {
     "data": {
      "text/plain": [
       "{1, 2, 3, 4, 5, 6, 7, 8, 9, 10, 11, 12, 15}"
      ]
     },
     "execution_count": 213,
     "metadata": {},
     "output_type": "execute_result"
    }
   ],
   "source": [
    "myset"
   ]
  },
  {
   "cell_type": "code",
   "execution_count": 216,
   "id": "aa0abcc6",
   "metadata": {},
   "outputs": [],
   "source": [
    "myset.add(2)"
   ]
  },
  {
   "cell_type": "code",
   "execution_count": 217,
   "id": "dd89e24e",
   "metadata": {},
   "outputs": [
    {
     "data": {
      "text/plain": [
       "{1, 2, 3, 4, 5, 6, 7, 8, 9, 10, 11, 12, 15}"
      ]
     },
     "execution_count": 217,
     "metadata": {},
     "output_type": "execute_result"
    }
   ],
   "source": [
    "myset"
   ]
  },
  {
   "cell_type": "code",
   "execution_count": 218,
   "id": "7275349b",
   "metadata": {},
   "outputs": [
    {
     "name": "stdout",
     "output_type": "stream",
     "text": [
      "['__and__', '__class__', '__class_getitem__', '__contains__', '__delattr__', '__dir__', '__doc__', '__eq__', '__format__', '__ge__', '__getattribute__', '__gt__', '__hash__', '__iand__', '__init__', '__init_subclass__', '__ior__', '__isub__', '__iter__', '__ixor__', '__le__', '__len__', '__lt__', '__ne__', '__new__', '__or__', '__rand__', '__reduce__', '__reduce_ex__', '__repr__', '__ror__', '__rsub__', '__rxor__', '__setattr__', '__sizeof__', '__str__', '__sub__', '__subclasshook__', '__xor__', 'add', 'clear', 'copy', 'difference', 'difference_update', 'discard', 'intersection', 'intersection_update', 'isdisjoint', 'issubset', 'issuperset', 'pop', 'remove', 'symmetric_difference', 'symmetric_difference_update', 'union', 'update']\n"
     ]
    }
   ],
   "source": [
    "print(dir(myset))"
   ]
  },
  {
   "cell_type": "code",
   "execution_count": 219,
   "id": "9a271e31",
   "metadata": {},
   "outputs": [
    {
     "data": {
      "text/plain": [
       "{1, 2, 3, 4, 5, 6, 7, 8, 9, 10, 11, 12, 15}"
      ]
     },
     "execution_count": 219,
     "metadata": {},
     "output_type": "execute_result"
    }
   ],
   "source": [
    "myset"
   ]
  },
  {
   "cell_type": "code",
   "execution_count": 222,
   "id": "08d78896",
   "metadata": {},
   "outputs": [
    {
     "data": {
      "text/plain": [
       "15"
      ]
     },
     "execution_count": 222,
     "metadata": {},
     "output_type": "execute_result"
    }
   ],
   "source": [
    "list(myset)[-1]"
   ]
  },
  {
   "cell_type": "code",
   "execution_count": 225,
   "id": "bd192b13",
   "metadata": {},
   "outputs": [
    {
     "name": "stdout",
     "output_type": "stream",
     "text": [
      "Enter a value and exit for come out:exit\n"
     ]
    }
   ],
   "source": [
    "while True:\n",
    "    data=input('Enter a value and exit for come out:')\n",
    "    if data.casefold()=='exit':\n",
    "        break\n",
    "    print('value:', data)"
   ]
  },
  {
   "cell_type": "code",
   "execution_count": null,
   "id": "b51dbe43",
   "metadata": {},
   "outputs": [],
   "source": []
  }
 ],
 "metadata": {
  "kernelspec": {
   "display_name": "Python 3 (ipykernel)",
   "language": "python",
   "name": "python3"
  },
  "language_info": {
   "codemirror_mode": {
    "name": "ipython",
    "version": 3
   },
   "file_extension": ".py",
   "mimetype": "text/x-python",
   "name": "python",
   "nbconvert_exporter": "python",
   "pygments_lexer": "ipython3",
   "version": "3.9.13"
  }
 },
 "nbformat": 4,
 "nbformat_minor": 5
}
