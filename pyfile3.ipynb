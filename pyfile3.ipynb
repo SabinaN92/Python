{
 "cells": [
  {
   "cell_type": "markdown",
   "id": "8b925af9",
   "metadata": {},
   "source": [
    "# Print Function"
   ]
  },
  {
   "cell_type": "code",
   "execution_count": 1,
   "id": "da372d4c",
   "metadata": {},
   "outputs": [
    {
     "name": "stdout",
     "output_type": "stream",
     "text": [
      "Hello\n"
     ]
    }
   ],
   "source": [
    "print('Hello')"
   ]
  },
  {
   "cell_type": "code",
   "execution_count": 2,
   "id": "e8c522f8",
   "metadata": {},
   "outputs": [],
   "source": [
    "name='sabina'"
   ]
  },
  {
   "cell_type": "code",
   "execution_count": 4,
   "id": "e5f24c29",
   "metadata": {},
   "outputs": [
    {
     "name": "stdout",
     "output_type": "stream",
     "text": [
      "sabina\n"
     ]
    }
   ],
   "source": [
    "print(name)"
   ]
  },
  {
   "cell_type": "code",
   "execution_count": 8,
   "id": "27935016",
   "metadata": {},
   "outputs": [
    {
     "name": "stdout",
     "output_type": "stream",
     "text": [
      "student name is: sabina\n"
     ]
    }
   ],
   "source": [
    "print(\"student name is:\", name)"
   ]
  },
  {
   "cell_type": "code",
   "execution_count": 11,
   "id": "62da450b",
   "metadata": {},
   "outputs": [
    {
     "name": "stdout",
     "output_type": "stream",
     "text": [
      "student name is sabina and her age is 30 years old\n"
     ]
    }
   ],
   "source": [
    "name='sabina'\n",
    "age=30\n",
    "city='Bangalore'\n",
    "\n",
    "# student name is sabina and her age is 30 years old\n",
    "\n",
    "print('student name is',name, 'and her age is',age, 'years old')"
   ]
  },
  {
   "cell_type": "code",
   "execution_count": 16,
   "id": "28e05630",
   "metadata": {},
   "outputs": [
    {
     "name": "stdout",
     "output_type": "stream",
     "text": [
      "student name is sabina and her age is 30  years old and she is from Bangalore \n"
     ]
    }
   ],
   "source": [
    "print('student name is {} and her age is {}  years old and she is from {} '.format(name,age,city))"
   ]
  },
  {
   "cell_type": "code",
   "execution_count": 19,
   "id": "d9abaca4",
   "metadata": {},
   "outputs": [
    {
     "name": "stdout",
     "output_type": "stream",
     "text": [
      "student name is sabina and her age is 30  years old and she is from Bangalore \n"
     ]
    }
   ],
   "source": [
    "print(f'student name is {name} and her age is {age}  years old and she is from {city} ')"
   ]
  },
  {
   "cell_type": "code",
   "execution_count": 27,
   "id": "cdf22e98",
   "metadata": {},
   "outputs": [
    {
     "name": "stdout",
     "output_type": "stream",
     "text": [
      "student name is sabina and her age is 30  years old and she is from Bangalore \n"
     ]
    }
   ],
   "source": [
    "print('student name is {0} and her age is {1}  years old and she is from {2} '.format(name,age,city))"
   ]
  },
  {
   "cell_type": "code",
   "execution_count": 38,
   "id": "a16a7692",
   "metadata": {},
   "outputs": [
    {
     "name": "stdout",
     "output_type": "stream",
     "text": [
      "the product's price is : 565.67899\n"
     ]
    }
   ],
   "source": [
    "price=565.67899\n",
    "print('the product\\'s price is :',price)"
   ]
  },
  {
   "cell_type": "code",
   "execution_count": 49,
   "id": "fa1d6ccf",
   "metadata": {},
   "outputs": [
    {
     "name": "stdout",
     "output_type": "stream",
     "text": [
      "the product's price is :565.67899\n"
     ]
    }
   ],
   "source": [
    "print('the product\\'s price is :{}'.format(price))"
   ]
  },
  {
   "cell_type": "code",
   "execution_count": 51,
   "id": "1088790e",
   "metadata": {},
   "outputs": [
    {
     "name": "stdout",
     "output_type": "stream",
     "text": [
      "the product's price is :565.67899\n"
     ]
    }
   ],
   "source": [
    "print(f'the product\\'s price is :{price}')"
   ]
  },
  {
   "cell_type": "code",
   "execution_count": 52,
   "id": "cc077142",
   "metadata": {},
   "outputs": [
    {
     "data": {
      "text/plain": [
       "565.68"
      ]
     },
     "execution_count": 52,
     "metadata": {},
     "output_type": "execute_result"
    }
   ],
   "source": [
    "round(price,2)"
   ]
  },
  {
   "cell_type": "code",
   "execution_count": 55,
   "id": "e180c501",
   "metadata": {},
   "outputs": [
    {
     "name": "stdout",
     "output_type": "stream",
     "text": [
      "the product price is: 565.679\n"
     ]
    }
   ],
   "source": [
    "print(\"the product price is: {}\".format(round(price,3)))"
   ]
  },
  {
   "cell_type": "markdown",
   "id": "3857e4e9",
   "metadata": {},
   "source": [
    "# Input Function"
   ]
  },
  {
   "cell_type": "code",
   "execution_count": 1,
   "id": "d52868d2",
   "metadata": {},
   "outputs": [
    {
     "name": "stdout",
     "output_type": "stream",
     "text": [
      "Enter your name:sabina\n",
      "Enter your age:30\n",
      "The type of name is : <class 'str'>\n",
      "The type of age is : <class 'int'>\n",
      "Age is: 31\n"
     ]
    }
   ],
   "source": [
    "name=input(\"Enter your name:\")\n",
    "age=int(input(\"Enter your age:\"))\n",
    "age=age+1\n",
    "print(\"The type of name is :\", type(name))\n",
    "print(\"The type of age is :\", type(age))\n",
    "print(\"Age is:\",age)"
   ]
  },
  {
   "cell_type": "code",
   "execution_count": 6,
   "id": "de071450",
   "metadata": {},
   "outputs": [
    {
     "name": "stdout",
     "output_type": "stream",
     "text": [
      "Enter your account number:12345678990\n",
      "Enter your name:acb\n",
      "Enter your 4 digit pin:1223\n",
      "12345678990,acb,1223\n",
      "Type of acct:<class 'int'>, name:<class 'str'> and pin:<class 'int'>\n"
     ]
    }
   ],
   "source": [
    "acct=int(input(\"Enter your account number:\"))\n",
    "name=input(\"Enter your name:\")\n",
    "pin=int(input(\"Enter your 4 digit pin:\"))\n",
    "\n",
    "print(\"{},{},{}\".format(acct,name,pin))\n",
    "print(\"Type of acct:{}, name:{} and pin:{}\".format(type(acct),type(name),type(pin)))"
   ]
  },
  {
   "cell_type": "markdown",
   "id": "4708e7d2",
   "metadata": {},
   "source": [
    "# Range Function"
   ]
  },
  {
   "cell_type": "code",
   "execution_count": 10,
   "id": "266ac59c",
   "metadata": {},
   "outputs": [
    {
     "name": "stdout",
     "output_type": "stream",
     "text": [
      "1 2 3 4 5 6 7 8 9 10 11 12 13 14 15 16 17 18 19 20 21 22 23 24 25 26 27 28 29 30 31 32 33 34 35 36 37 38 39 40 41 42 43 44 45 46 47 48 49 50 51 52 53 54 55 56 57 58 59 60 61 62 63 64 65 66 67 68 69 70 71 72 73 74 75 76 77 78 79 80 81 82 83 84 85 86 87 88 89 90 91 92 93 94 95 96 97 98 99 100 "
     ]
    }
   ],
   "source": [
    "for x in range(1,101):\n",
    "    print(x, end=' ')"
   ]
  },
  {
   "cell_type": "code",
   "execution_count": 11,
   "id": "d4fc4cfb",
   "metadata": {},
   "outputs": [
    {
     "name": "stdout",
     "output_type": "stream",
     "text": [
      "1 3 5 7 9 11 13 15 17 19 21 23 25 27 29 31 33 35 37 39 41 43 45 47 49 51 53 55 57 59 61 63 65 67 69 71 73 75 77 79 81 83 85 87 89 91 93 95 97 99 "
     ]
    }
   ],
   "source": [
    "for x in range(1,101,2):\n",
    "    print(x, end=' ')"
   ]
  },
  {
   "cell_type": "code",
   "execution_count": 12,
   "id": "e6ddb338",
   "metadata": {},
   "outputs": [
    {
     "name": "stdout",
     "output_type": "stream",
     "text": [
      "2 4 6 8 10 12 14 16 18 20 22 24 26 28 30 32 34 36 38 40 42 44 46 48 50 52 54 56 58 60 62 64 66 68 70 72 74 76 78 80 82 84 86 88 90 92 94 96 98 100 "
     ]
    }
   ],
   "source": [
    "for x in range(2,101,2):\n",
    "    print(x, end=' ')\n"
   ]
  },
  {
   "cell_type": "markdown",
   "id": "19fe44cb",
   "metadata": {},
   "source": [
    "# Loops"
   ]
  },
  {
   "cell_type": "code",
   "execution_count": 16,
   "id": "ab9c300a",
   "metadata": {},
   "outputs": [
    {
     "data": {
      "text/plain": [
       "'\\nwhile\\nfor\\n'"
      ]
     },
     "execution_count": 16,
     "metadata": {},
     "output_type": "execute_result"
    }
   ],
   "source": [
    "'''\n",
    "while\n",
    "for\n",
    "'''"
   ]
  },
  {
   "cell_type": "code",
   "execution_count": 4,
   "id": "5d492337",
   "metadata": {},
   "outputs": [
    {
     "name": "stdout",
     "output_type": "stream",
     "text": [
      "1\n",
      "2\n",
      "3\n",
      "4\n",
      "5\n",
      "The value of the x is: 6\n"
     ]
    }
   ],
   "source": [
    "# while <cond>:\n",
    "#       statements\n",
    "\n",
    "x=1\n",
    "\n",
    "while x<=5:\n",
    "    print(x)\n",
    "    x=x+1\n",
    "\n",
    "else:\n",
    "    print(\"The value of the x is:\", x)\n"
   ]
  },
  {
   "cell_type": "code",
   "execution_count": 6,
   "id": "acf76888",
   "metadata": {},
   "outputs": [],
   "source": [
    "info =['ExcelR','Data science','Python',2023,100]"
   ]
  },
  {
   "cell_type": "code",
   "execution_count": 7,
   "id": "c629e4d2",
   "metadata": {},
   "outputs": [
    {
     "name": "stdout",
     "output_type": "stream",
     "text": [
      "ExcelR\n",
      "Data science\n",
      "Python\n",
      "2023\n",
      "100\n"
     ]
    }
   ],
   "source": [
    "for x in info:\n",
    "    print(x)"
   ]
  },
  {
   "cell_type": "code",
   "execution_count": 10,
   "id": "81a4e3d5",
   "metadata": {},
   "outputs": [
    {
     "name": "stdout",
     "output_type": "stream",
     "text": [
      "1 2 3 4 5 6 7 8 9 10 \n",
      " 11 12 13 14 15 16 17 18 19 20 21 \n",
      " 22 23 24 25 26 27 28 29 30 31 32 \n",
      " 33 34 35 36 37 38 39 40 41 42 43 \n",
      " 44 45 46 47 48 49 50 51 52 53 54 \n",
      " 55 56 57 58 59 60 61 62 63 64 65 \n",
      " 66 67 68 69 70 71 72 73 74 75 76 \n",
      " 77 78 79 80 81 82 83 84 85 86 87 \n",
      " 88 89 90 91 92 93 94 95 96 97 98 \n",
      " 99 100 "
     ]
    }
   ],
   "source": [
    "i=1\n",
    "for x in range(1,101):\n",
    "    if i<=10:\n",
    "        print(x, end=' ')\n",
    "        i=i+1\n",
    "    else:\n",
    "        print('\\n',x, end=' ')\n",
    "        i=1"
   ]
  },
  {
   "cell_type": "markdown",
   "id": "330c342c",
   "metadata": {},
   "source": [
    "# Data Structure"
   ]
  },
  {
   "cell_type": "code",
   "execution_count": 11,
   "id": "c3a5e08b",
   "metadata": {},
   "outputs": [
    {
     "data": {
      "text/plain": [
       "'\\nImmutable\\n    - Numbers\\n    - String   \\n    - Tuple\\nMutable\\n    - List\\n    - Dictionary\\n    - Set\\n'"
      ]
     },
     "execution_count": 11,
     "metadata": {},
     "output_type": "execute_result"
    }
   ],
   "source": [
    "'''\n",
    "Immutable\n",
    "    - Numbers\n",
    "    - String   \n",
    "    - Tuple\n",
    "Mutable\n",
    "    - List\n",
    "    - Dictionary\n",
    "    - Set\n",
    "'''\n"
   ]
  },
  {
   "cell_type": "code",
   "execution_count": null,
   "id": "09cbfb40",
   "metadata": {},
   "outputs": [],
   "source": [
    "'''\n",
    "Arithmetic Operators\n",
    "Assignment \n",
    "Comparison\n",
    "Bitwise\n",
    "Binary\n",
    "Identity\n",
    "Membership\n",
    "'''"
   ]
  },
  {
   "cell_type": "code",
   "execution_count": 12,
   "id": "9fcf5e4d",
   "metadata": {},
   "outputs": [
    {
     "data": {
      "text/plain": [
       "2"
      ]
     },
     "execution_count": 12,
     "metadata": {},
     "output_type": "execute_result"
    }
   ],
   "source": [
    "1+1"
   ]
  },
  {
   "cell_type": "code",
   "execution_count": 13,
   "id": "a3e3a456",
   "metadata": {},
   "outputs": [
    {
     "data": {
      "text/plain": [
       "-2"
      ]
     },
     "execution_count": 13,
     "metadata": {},
     "output_type": "execute_result"
    }
   ],
   "source": [
    "2-4"
   ]
  },
  {
   "cell_type": "code",
   "execution_count": 14,
   "id": "963a02b3",
   "metadata": {},
   "outputs": [
    {
     "data": {
      "text/plain": [
       "2"
      ]
     },
     "execution_count": 14,
     "metadata": {},
     "output_type": "execute_result"
    }
   ],
   "source": [
    "4-2"
   ]
  },
  {
   "cell_type": "code",
   "execution_count": 15,
   "id": "40653bf8",
   "metadata": {},
   "outputs": [
    {
     "data": {
      "text/plain": [
       "2.5"
      ]
     },
     "execution_count": 15,
     "metadata": {},
     "output_type": "execute_result"
    }
   ],
   "source": [
    "5/2"
   ]
  },
  {
   "cell_type": "code",
   "execution_count": 16,
   "id": "78a0c45b",
   "metadata": {},
   "outputs": [
    {
     "data": {
      "text/plain": [
       "2"
      ]
     },
     "execution_count": 16,
     "metadata": {},
     "output_type": "execute_result"
    }
   ],
   "source": [
    "5//2"
   ]
  },
  {
   "cell_type": "code",
   "execution_count": 19,
   "id": "cac7b6d7",
   "metadata": {},
   "outputs": [
    {
     "data": {
      "text/plain": [
       "6"
      ]
     },
     "execution_count": 19,
     "metadata": {},
     "output_type": "execute_result"
    }
   ],
   "source": [
    "2*3"
   ]
  },
  {
   "cell_type": "code",
   "execution_count": 20,
   "id": "9ab70cf5",
   "metadata": {},
   "outputs": [
    {
     "data": {
      "text/plain": [
       "8"
      ]
     },
     "execution_count": 20,
     "metadata": {},
     "output_type": "execute_result"
    }
   ],
   "source": [
    "2**3"
   ]
  },
  {
   "cell_type": "code",
   "execution_count": 21,
   "id": "56dff5b8",
   "metadata": {},
   "outputs": [
    {
     "data": {
      "text/plain": [
       "1"
      ]
     },
     "execution_count": 21,
     "metadata": {},
     "output_type": "execute_result"
    }
   ],
   "source": [
    "11%2    # Return the reminder"
   ]
  },
  {
   "cell_type": "code",
   "execution_count": 22,
   "id": "0eed30c3",
   "metadata": {},
   "outputs": [],
   "source": [
    "# Assignment\n",
    "x=10"
   ]
  },
  {
   "cell_type": "code",
   "execution_count": 23,
   "id": "02581862",
   "metadata": {},
   "outputs": [
    {
     "data": {
      "text/plain": [
       "10"
      ]
     },
     "execution_count": 23,
     "metadata": {},
     "output_type": "execute_result"
    }
   ],
   "source": [
    "x"
   ]
  },
  {
   "cell_type": "code",
   "execution_count": 24,
   "id": "24f3c767",
   "metadata": {},
   "outputs": [],
   "source": [
    "y=x"
   ]
  },
  {
   "cell_type": "code",
   "execution_count": 25,
   "id": "815cb3c6",
   "metadata": {},
   "outputs": [
    {
     "data": {
      "text/plain": [
       "10"
      ]
     },
     "execution_count": 25,
     "metadata": {},
     "output_type": "execute_result"
    }
   ],
   "source": [
    "y"
   ]
  },
  {
   "cell_type": "code",
   "execution_count": 26,
   "id": "edc49184",
   "metadata": {},
   "outputs": [],
   "source": [
    "z=x*2"
   ]
  },
  {
   "cell_type": "code",
   "execution_count": 27,
   "id": "912bc7af",
   "metadata": {},
   "outputs": [
    {
     "data": {
      "text/plain": [
       "20"
      ]
     },
     "execution_count": 27,
     "metadata": {},
     "output_type": "execute_result"
    }
   ],
   "source": [
    "z"
   ]
  },
  {
   "cell_type": "code",
   "execution_count": 39,
   "id": "973f8e17",
   "metadata": {},
   "outputs": [
    {
     "data": {
      "text/plain": [
       "40"
      ]
     },
     "execution_count": 39,
     "metadata": {},
     "output_type": "execute_result"
    }
   ],
   "source": [
    "result=x+y+z\n",
    "result"
   ]
  },
  {
   "cell_type": "code",
   "execution_count": 41,
   "id": "8b8f55e9",
   "metadata": {},
   "outputs": [
    {
     "data": {
      "text/plain": [
       "10"
      ]
     },
     "execution_count": 41,
     "metadata": {},
     "output_type": "execute_result"
    }
   ],
   "source": [
    "# Comparison\n",
    "\n",
    "x"
   ]
  },
  {
   "cell_type": "code",
   "execution_count": 31,
   "id": "f56e5cbf",
   "metadata": {},
   "outputs": [
    {
     "data": {
      "text/plain": [
       "False"
      ]
     },
     "execution_count": 31,
     "metadata": {},
     "output_type": "execute_result"
    }
   ],
   "source": [
    "x>100"
   ]
  },
  {
   "cell_type": "code",
   "execution_count": 32,
   "id": "c59c2a20",
   "metadata": {},
   "outputs": [
    {
     "data": {
      "text/plain": [
       "False"
      ]
     },
     "execution_count": 32,
     "metadata": {},
     "output_type": "execute_result"
    }
   ],
   "source": [
    "x==0"
   ]
  },
  {
   "cell_type": "code",
   "execution_count": 36,
   "id": "c85f30cb",
   "metadata": {},
   "outputs": [
    {
     "data": {
      "text/plain": [
       "False"
      ]
     },
     "execution_count": 36,
     "metadata": {},
     "output_type": "execute_result"
    }
   ],
   "source": [
    "x!=10"
   ]
  },
  {
   "cell_type": "code",
   "execution_count": 37,
   "id": "520cb54c",
   "metadata": {},
   "outputs": [
    {
     "data": {
      "text/plain": [
       "True"
      ]
     },
     "execution_count": 37,
     "metadata": {},
     "output_type": "execute_result"
    }
   ],
   "source": [
    "x!=0"
   ]
  },
  {
   "cell_type": "code",
   "execution_count": 30,
   "id": "f985aa41",
   "metadata": {},
   "outputs": [
    {
     "data": {
      "text/plain": [
       "True"
      ]
     },
     "execution_count": 30,
     "metadata": {},
     "output_type": "execute_result"
    }
   ],
   "source": [
    "x==10"
   ]
  },
  {
   "cell_type": "code",
   "execution_count": 42,
   "id": "ddd82290",
   "metadata": {},
   "outputs": [
    {
     "data": {
      "text/plain": [
       "True"
      ]
     },
     "execution_count": 42,
     "metadata": {},
     "output_type": "execute_result"
    }
   ],
   "source": [
    "x>0"
   ]
  },
  {
   "cell_type": "markdown",
   "id": "34413db8",
   "metadata": {},
   "source": [
    "# Flow Control Statements"
   ]
  },
  {
   "cell_type": "code",
   "execution_count": null,
   "id": "1cafac1c",
   "metadata": {},
   "outputs": [],
   "source": [
    "'''\n",
    "break\n",
    "continue\n",
    "'''"
   ]
  },
  {
   "cell_type": "code",
   "execution_count": 43,
   "id": "6d2be0bd",
   "metadata": {},
   "outputs": [
    {
     "name": "stdout",
     "output_type": "stream",
     "text": [
      "1\n",
      "2\n",
      "3\n",
      "4\n",
      "This is the next line to the loop\n",
      "Thanks\n"
     ]
    }
   ],
   "source": [
    "x=1\n",
    "\n",
    "while x<=10:\n",
    "    if x==5:\n",
    "        break\n",
    "    print(x)\n",
    "    x=x+1\n",
    "    \n",
    "print(\"This is the next line to the loop\")\n",
    "print(\"Thanks\")"
   ]
  },
  {
   "cell_type": "code",
   "execution_count": 44,
   "id": "48b643d2",
   "metadata": {},
   "outputs": [
    {
     "name": "stdout",
     "output_type": "stream",
     "text": [
      "1\n",
      "2\n",
      "3\n",
      "4\n",
      "6\n",
      "7\n",
      "8\n",
      "9\n",
      "10\n",
      "11\n",
      "This is the next line to the loop\n",
      "Thanks\n"
     ]
    }
   ],
   "source": [
    "x=0\n",
    "\n",
    "while x<=10:\n",
    "    x=x+1\n",
    "    if x==5:\n",
    "        continue\n",
    "    print(x)\n",
    "\n",
    "print(\"This is the next line to the loop\")\n",
    "print('Thanks')"
   ]
  },
  {
   "cell_type": "code",
   "execution_count": null,
   "id": "f1e619f3",
   "metadata": {},
   "outputs": [],
   "source": []
  }
 ],
 "metadata": {
  "kernelspec": {
   "display_name": "Python 3 (ipykernel)",
   "language": "python",
   "name": "python3"
  },
  "language_info": {
   "codemirror_mode": {
    "name": "ipython",
    "version": 3
   },
   "file_extension": ".py",
   "mimetype": "text/x-python",
   "name": "python",
   "nbconvert_exporter": "python",
   "pygments_lexer": "ipython3",
   "version": "3.9.13"
  }
 },
 "nbformat": 4,
 "nbformat_minor": 5
}
