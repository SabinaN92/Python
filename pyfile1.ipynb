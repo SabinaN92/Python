{
 "cells": [
  {
   "cell_type": "code",
   "execution_count": 1,
   "id": "6e82dd59",
   "metadata": {},
   "outputs": [
    {
     "data": {
      "text/plain": [
       "2"
      ]
     },
     "execution_count": 1,
     "metadata": {},
     "output_type": "execute_result"
    }
   ],
   "source": [
    "1+1"
   ]
  },
  {
   "cell_type": "code",
   "execution_count": 2,
   "id": "71dc1fd0",
   "metadata": {},
   "outputs": [
    {
     "data": {
      "text/plain": [
       "4"
      ]
     },
     "execution_count": 2,
     "metadata": {},
     "output_type": "execute_result"
    }
   ],
   "source": [
    "2*2"
   ]
  },
  {
   "cell_type": "code",
   "execution_count": 4,
   "id": "81e43737",
   "metadata": {},
   "outputs": [
    {
     "data": {
      "text/plain": [
       "5"
      ]
     },
     "execution_count": 4,
     "metadata": {},
     "output_type": "execute_result"
    }
   ],
   "source": [
    "10//2"
   ]
  },
  {
   "cell_type": "code",
   "execution_count": 5,
   "id": "4d1b82db",
   "metadata": {},
   "outputs": [
    {
     "data": {
      "text/plain": [
       "5"
      ]
     },
     "execution_count": 5,
     "metadata": {},
     "output_type": "execute_result"
    }
   ],
   "source": [
    "10-5"
   ]
  },
  {
   "cell_type": "code",
   "execution_count": 6,
   "id": "d9757bf3",
   "metadata": {},
   "outputs": [
    {
     "data": {
      "text/plain": [
       "5.0"
      ]
     },
     "execution_count": 6,
     "metadata": {},
     "output_type": "execute_result"
    }
   ],
   "source": [
    "10/2"
   ]
  },
  {
   "cell_type": "markdown",
   "id": "580f3ff1",
   "metadata": {},
   "source": [
    "# comments"
   ]
  },
  {
   "cell_type": "code",
   "execution_count": 8,
   "id": "f031da54",
   "metadata": {},
   "outputs": [
    {
     "data": {
      "text/plain": [
       "10"
      ]
     },
     "execution_count": 8,
     "metadata": {},
     "output_type": "execute_result"
    }
   ],
   "source": [
    "# single line comment\n",
    "\n",
    "# is used for commenting a line\n",
    "\n",
    "#add two numbers\n",
    "5+5"
   ]
  },
  {
   "cell_type": "code",
   "execution_count": 11,
   "id": "83b8e0b0",
   "metadata": {},
   "outputs": [
    {
     "data": {
      "text/plain": [
       "25"
      ]
     },
     "execution_count": 11,
     "metadata": {},
     "output_type": "execute_result"
    }
   ],
   "source": [
    " \"\"\"\n",
    " Line1\n",
    " Line2\n",
    " .\n",
    " .\n",
    " .\n",
    " LineN\n",
    " \"\"\"\n",
    "\n",
    " 5*5"
   ]
  },
  {
   "cell_type": "markdown",
   "id": "bf93c69f",
   "metadata": {},
   "source": [
    "# Quotes"
   ]
  },
  {
   "cell_type": "code",
   "execution_count": null,
   "id": "6ff5d941",
   "metadata": {},
   "outputs": [],
   "source": [
    " '\n",
    " \"\n",
    " ''' | \"\"\""
   ]
  },
  {
   "cell_type": "code",
   "execution_count": 16,
   "id": "28bf2303",
   "metadata": {},
   "outputs": [
    {
     "name": "stdout",
     "output_type": "stream",
     "text": [
      "sabina\n"
     ]
    }
   ],
   "source": [
    "name = 'sabina'\n",
    "print(name)"
   ]
  },
  {
   "cell_type": "code",
   "execution_count": 17,
   "id": "d41bd6dd",
   "metadata": {},
   "outputs": [
    {
     "name": "stdout",
     "output_type": "stream",
     "text": [
      "sabina\n"
     ]
    }
   ],
   "source": [
    "name = \"sabina\"\n",
    "print(name)"
   ]
  },
  {
   "cell_type": "code",
   "execution_count": 21,
   "id": "351285aa",
   "metadata": {},
   "outputs": [
    {
     "name": "stdout",
     "output_type": "stream",
     "text": [
      "st's joseph engg college\n"
     ]
    }
   ],
   "source": [
    "college = \"st's joseph engg college\"\n",
    "print(college)"
   ]
  },
  {
   "cell_type": "code",
   "execution_count": 22,
   "id": "761707e8",
   "metadata": {},
   "outputs": [
    {
     "name": "stdout",
     "output_type": "stream",
     "text": [
      "st's joseph engg college\n"
     ]
    }
   ],
   "source": [
    "college = 'st\\'s joseph engg college'\n",
    "print(college)"
   ]
  },
  {
   "cell_type": "code",
   "execution_count": 23,
   "id": "bc65c7dd",
   "metadata": {},
   "outputs": [
    {
     "name": "stdout",
     "output_type": "stream",
     "text": [
      "python support both \"procedural\" as well as \"oops\"\n"
     ]
    }
   ],
   "source": [
    "about = 'python support both \"procedural\" as well as \"oops\"'\n",
    "print(about)"
   ]
  },
  {
   "cell_type": "code",
   "execution_count": 27,
   "id": "12d85281",
   "metadata": {},
   "outputs": [
    {
     "name": "stdout",
     "output_type": "stream",
     "text": [
      "python support both 'procedural' as well as \"oops\"\n"
     ]
    }
   ],
   "source": [
    "about = 'python support both \\'procedural\\' as well as \"oops\"'\n",
    "print(about)"
   ]
  },
  {
   "cell_type": "code",
   "execution_count": 30,
   "id": "bb415b00",
   "metadata": {},
   "outputs": [],
   "source": [
    "about_python = \"\"\"Python is a high level , dynamic, procedural and object oriented programming language\n",
    "It was developed by \"GUIDO VAN ROUSSUM\"\n",
    "He is from NETHERLAND\n",
    "IT was released in to market on early 1990 \"\"\""
   ]
  },
  {
   "cell_type": "code",
   "execution_count": 31,
   "id": "68f3dfab",
   "metadata": {},
   "outputs": [
    {
     "name": "stdout",
     "output_type": "stream",
     "text": [
      "Python is a high level , dynamic, procedural and object oriented programming language\n",
      "It was developed by \"GUIDO VAN ROUSSUM\"\n",
      "He is from NETHERLAND\n",
      "IT was released in to market on early 1990 \n"
     ]
    }
   ],
   "source": [
    "print(about_python)"
   ]
  },
  {
   "cell_type": "code",
   "execution_count": 34,
   "id": "3731dae5",
   "metadata": {},
   "outputs": [
    {
     "name": "stdout",
     "output_type": "stream",
     "text": [
      "invalid age, please check\n",
      "out of condtional statement\n"
     ]
    }
   ],
   "source": [
    "age = 101\n",
    "if age>18 and age<=100:\n",
    "    print('you can vote')\n",
    "    print('It is valid only for indian citizen')\n",
    "    print('please check your own country standards if you are from other contry')\n",
    "elif age<0 or age>100:\n",
    "    print('invalid age, please check')\n",
    "elif age==0:\n",
    "    print('you are a just born boby')\n",
    "else:\n",
    "    print('you can not vote')\n",
    "    print('because you are less than 18 years old')\n",
    "print('out of condtional statement')"
   ]
  },
  {
   "cell_type": "code",
   "execution_count": 39,
   "id": "a236c3b0",
   "metadata": {},
   "outputs": [
    {
     "name": "stdout",
     "output_type": "stream",
     "text": [
      "can't go for voting\n"
     ]
    }
   ],
   "source": [
    "age = 3\n",
    "country = 'India'\n",
    "\n",
    "if country == 'India':\n",
    "    if age > 18:\n",
    "        print('you are eligible for vote')\n",
    "    else:\n",
    "        print('can\\'t go for voting' )\n",
    "else:\n",
    "    print('please follow your own country:{} standard'.format(country))"
   ]
  },
  {
   "cell_type": "code",
   "execution_count": 43,
   "id": "c79ccab9",
   "metadata": {},
   "outputs": [
    {
     "name": "stdout",
     "output_type": "stream",
     "text": [
      "-2\n"
     ]
    }
   ],
   "source": [
    "age = -2 \n",
    "if age>0:\n",
    "    print('your age is:', age)\n",
    "\n",
    "elif age == 100:\n",
    "    print('invalid age')\n",
    "    \n",
    "else:\n",
    "    print(age)"
   ]
  },
  {
   "cell_type": "code",
   "execution_count": null,
   "id": "d4bcbe10",
   "metadata": {},
   "outputs": [],
   "source": []
  }
 ],
 "metadata": {
  "kernelspec": {
   "display_name": "Python 3 (ipykernel)",
   "language": "python",
   "name": "python3"
  },
  "language_info": {
   "codemirror_mode": {
    "name": "ipython",
    "version": 3
   },
   "file_extension": ".py",
   "mimetype": "text/x-python",
   "name": "python",
   "nbconvert_exporter": "python",
   "pygments_lexer": "ipython3",
   "version": "3.9.13"
  }
 },
 "nbformat": 4,
 "nbformat_minor": 5
}
